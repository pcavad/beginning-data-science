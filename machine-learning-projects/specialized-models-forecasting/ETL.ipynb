{
 "cells": [
  {
   "cell_type": "markdown",
   "metadata": {},
   "source": [
    "# Extract Transform Load #"
   ]
  },
  {
   "cell_type": "code",
   "execution_count": null,
   "metadata": {},
   "outputs": [],
   "source": [
    "# Third part\n",
    "import pandas as pd\n",
    "pd.set_option('display.max_columns', 15)\n",
    "pd.set_option('display.max_rows', None)\n",
    "pd.options.display.float_format = '{:,.2f}'.format\n",
    "\n",
    "# Support ETL library\n",
    "from support import ETL"
   ]
  },
  {
   "cell_type": "code",
   "execution_count": null,
   "metadata": {},
   "outputs": [],
   "source": [
    "to_replace = [\n",
    "'''\n",
    "List of company names.\n",
    "'''\n",
    "    ]\n",
    "\n",
    "value = [\n",
    "    'Company 1'\n",
    "   , 'Company 2'\n",
    "   ,'Company 3'\n",
    "   ,'Company 4'\n",
    "   ,'Company 5','Company 5','Company 5'\n",
    "   ,'Company 5'\n",
    "   ,'Company 6'\n",
    "   ,'Company 7'\n",
    "   ,'Company 8','Company 8','Company 8'\n",
    "   ,'Company 9'\n",
    "   , 'Company 10','Company 10','Company 10'\n",
    "   ,'Company 11','Company 11'\n",
    "   ,'Company 12'\n",
    "   ,'Company 13'\n",
    "   ,'Company 14'\n",
    "   ,'Company 15'\n",
    "   ,'Company 16'\n",
    "   ,'Company 17'\n",
    "   ,'Company 18','Company 18', 'Company 18'\n",
    "   ,'Company 19'\n",
    "   ,'Company 20'\n",
    "   ,'Company 21'\n",
    "   ,'Company 22'\n",
    "    , 'Company 23'\n",
    "    , 'Company 24'\n",
    "    , 'Company 25'\n",
    "    , 'Company 26'\n",
    "    , 'Company 27'\n",
    "    , 'Company 28'\n",
    "    ]"
   ]
  },
  {
   "cell_type": "code",
   "execution_count": null,
   "metadata": {},
   "outputs": [],
   "source": [
    "# Run ETL\n",
    "\n",
    "df = ETL.ETL('data/orders/', to_replace_company_names = to_replace, value_company_names = value)"
   ]
  },
  {
   "cell_type": "code",
   "execution_count": null,
   "metadata": {},
   "outputs": [],
   "source": [
    "#sample order with lines 711711, 692511, 681211, 237622, 119233, 2137\n",
    "header_mask = [\n",
    "    'OrderId','Billing Company','Billing Name','Financial Status'\n",
    "     ,'Fulfillment Status','Date','Created at','Paid at','Fulfilled at'\n",
    "     , 'Rate','Currency','Subtotal','Shipping','Total','Total_usd', 'Total_quantity'\n",
    "     ,'Source','Region','Agent','Distributor','Tags'\n",
    "    ]\n",
    "\n",
    "df.loc[(df['Name'] == '#237622') & (df['Currency'].notna()),header_mask]"
   ]
  },
  {
   "cell_type": "code",
   "execution_count": null,
   "metadata": {},
   "outputs": [],
   "source": [
    "#sample order with lines 692511, 681211, 237622, 119233, 2137\n",
    "columns_mask = [\n",
    "    'OrderId','Lineitem sku','Lineitem name','Lineitem model'\n",
    "    ,'Lineitem quantity','Lineitem unit price','Lineitem amount'\n",
    "    ]\n",
    "\n",
    "df.loc[df['Name'] == '#237622',columns_mask]"
   ]
  },
  {
   "cell_type": "code",
   "execution_count": null,
   "metadata": {},
   "outputs": [],
   "source": []
  }
 ],
 "metadata": {
  "kernelspec": {
   "display_name": "Python 3",
   "language": "python",
   "name": "python3"
  },
  "language_info": {
   "codemirror_mode": {
    "name": "ipython",
    "version": 3
   },
   "file_extension": ".py",
   "mimetype": "text/x-python",
   "name": "python",
   "nbconvert_exporter": "python",
   "pygments_lexer": "ipython3",
   "version": "3.9.5"
  }
 },
 "nbformat": 4,
 "nbformat_minor": 4
}
