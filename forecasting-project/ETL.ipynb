{
 "cells": [
  {
   "cell_type": "markdown",
   "metadata": {},
   "source": [
    "# Extract Transform Load #"
   ]
  },
  {
   "cell_type": "code",
   "execution_count": null,
   "metadata": {
    "tags": []
   },
   "outputs": [],
   "source": [
    "# Python\n",
    "import os \n",
    "\n",
    "# Third part\n",
    "import pandas as pd\n",
    "pd.set_option('display.max_columns', 15)\n",
    "pd.set_option('display.max_rows', None)\n",
    "pd.options.display.float_format = '{:,.2f}'.format\n",
    "\n",
    "# Support ETL library\n",
    "from support import ETL"
   ]
  },
  {
   "cell_type": "code",
   "execution_count": null,
   "metadata": {},
   "outputs": [],
   "source": [
    "to_replace = [\n",
    "'...'\n",
    "    ]\n",
    "\n",
    "values = [\n",
    "'...'\n",
    "    ]"
   ]
  },
  {
   "cell_type": "code",
   "execution_count": null,
   "metadata": {},
   "outputs": [],
   "source": [
    "# Run ETL\n",
    "\n",
    "df = ETL2.ETL(\n",
    "    data = 'data',\n",
    "    orders_filepath = 'orders',\n",
    "    orders_file = 'Backup_orders_after_etl.csv',\n",
    "    rates_file = 'rates2.csv',\n",
    "    re_generate_rates = False,\n",
    "    to_replace_company_names = to_replace,\n",
    "    value_company_names = values,\n",
    "    stores = '...',\n",
    "    channels = ['...', '...', '...'] # , 'RMA - distributor'\n",
    "    )"
   ]
  },
  {
   "cell_type": "code",
   "execution_count": null,
   "metadata": {},
   "outputs": [],
   "source": [
    "#sample order with lines 711711, 692511, 681211, 237622, 119233, 2137, 722511\n",
    "header_mask = [\n",
    "    'order_id',\n",
    "    'billing_company',\n",
    "    'billing_name',\n",
    "    'fulfillment_status',\n",
    "    'order_date',\n",
    "    'created_at',\n",
    "    'paid_at',\n",
    "    'fulfilled_at',\n",
    "    'currency_rate',\n",
    "    'currency',\n",
    "    'subtotal',\n",
    "    'shipping',\n",
    "    'total',\n",
    "    'total_usd', \n",
    "    'total_quantity',\n",
    "    'source',\n",
    "    'region',\n",
    "    'channel',\n",
    "    'distributor',\n",
    "    'tags'\n",
    "    ]\n",
    "\n",
    "df.loc[(df['order_id'] == '#692511-US') & (df['currency'].notna()),header_mask]"
   ]
  },
  {
   "cell_type": "code",
   "execution_count": null,
   "metadata": {},
   "outputs": [],
   "source": [
    "#sample order with lines 692511, 681211, 237622, 119233, 2137\n",
    "columns_mask = [\n",
    "    'order_id',\n",
    "    'lineitem_sku',\n",
    "    'lineitem_name',\n",
    "    'lineitem_model',\n",
    "    'lineitem_quantity',\n",
    "    'lineitem_unit_price',\n",
    "    'lineitem_amount'\n",
    "    ]\n",
    "\n",
    "df.loc[df['order_id'] == '#243422-EU',columns_mask]"
   ]
  },
  {
   "cell_type": "code",
   "execution_count": null,
   "metadata": {},
   "outputs": [],
   "source": []
  }
 ],
 "metadata": {
  "kernelspec": {
   "display_name": "Python 3",
   "language": "python",
   "name": "python3"
  },
  "language_info": {
   "codemirror_mode": {
    "name": "ipython",
    "version": 3
   },
   "file_extension": ".py",
   "mimetype": "text/x-python",
   "name": "python",
   "nbconvert_exporter": "python",
   "pygments_lexer": "ipython3",
   "version": "3.9.5"
  }
 },
 "nbformat": 4,
 "nbformat_minor": 4
}
