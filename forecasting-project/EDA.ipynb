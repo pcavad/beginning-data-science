{
 "cells": [
  {
   "cell_type": "markdown",
   "metadata": {},
   "source": [
    "# Exploratory Data Analisys #"
   ]
  },
  {
   "cell_type": "code",
   "execution_count": null,
   "metadata": {
    "extensions": {
     "jupyter_dashboards": {
      "activeView": "grid_default",
      "views": {
       "grid_default": {
        "col": null,
        "height": 2,
        "hidden": true,
        "row": null,
        "width": 2
       }
      }
     }
    },
    "tags": []
   },
   "outputs": [],
   "source": [
    "# Python\n",
    "from datetime import datetime\n",
    "import ipywidgets as widgets # Used with date strat/end widgets\n",
    "import warnings\n",
    "warnings.filterwarnings('ignore')\n",
    "import os\n",
    "import re\n",
    "\n",
    "# thrid part\n",
    "import matplotlib as mpl\n",
    "import matplotlib.pyplot as plt\n",
    "%matplotlib inline\n",
    "mpl.style.use('seaborn') # ggplot\n",
    "plt.rcParams['figure.figsize'] = [15, 5]\n",
    "import numpy as np\n",
    "import pandas as pd\n",
    "pd.set_option('display.max_columns', 15)\n",
    "pd.set_option('display.max_rows', 20)\n",
    "pd.options.display.float_format = '{:,.2f}'.format\n",
    "import seaborn as sns\n",
    "sns.set_theme(style=\"darkgrid\")\n",
    "\n",
    "# Support helper and deep learning functions\n",
    "from support import Utils as UT\n",
    "from support import Service as SV"
   ]
  },
  {
   "cell_type": "code",
   "execution_count": null,
   "metadata": {
    "extensions": {
     "jupyter_dashboards": {
      "activeView": "grid_default",
      "views": {
       "grid_default": {
        "col": null,
        "height": 2,
        "hidden": true,
        "row": null,
        "width": 2
       }
      }
     }
    }
   },
   "outputs": [],
   "source": [
    "# Load data\n",
    "\n",
    "main_dir = 'data'\n",
    "orders_dir = 'orders'\n",
    "returns_dir = 'returns'\n",
    "file_orders = 'Backup_orders_after_etl.csv'\n",
    "file_models = 'models.xlsx'\n",
    "file_service = 'service.csv'\n",
    "\n",
    "try:\n",
    "    df = UT.load_orders(os.path.join(main_dir, file_orders))\n",
    "    print('orders: ', df.shape[0])\n",
    "    df_models = pd.read_excel(os.path.join(main_dir, file_models))\n",
    "    df_service = pd.read_csv(os.path.join(main_dir, returns_dir, file_service), usecols=['distributor','sku', 'processed'])\n",
    "    print('returns: ', df_service.shape[0])\n",
    "except Exception as e:\n",
    "    print(e)\n",
    "    \n",
    "date_start, date_end = UT.show_date()"
   ]
  },
  {
   "cell_type": "code",
   "execution_count": null,
   "metadata": {
    "extensions": {
     "jupyter_dashboards": {
      "activeView": "grid_default",
      "views": {
       "grid_default": {
        "col": null,
        "height": 2,
        "hidden": true,
        "row": null,
        "width": 2
       }
      }
     }
    }
   },
   "outputs": [],
   "source": [
    "UT.plot_pivot_orders(df\n",
    "                    , df_models\n",
    "                    , df_service\n",
    "                    , UT.make_date(date_start)\n",
    "                    , UT.make_date(date_end)\n",
    "                    , period_orders = 'M'\n",
    "                    , df_filter_orders = True # df['Agent'] == 'AVE'\n",
    "                    , drill_down_orders = ['billing_company'] #only header info, always start with 'Billing Company'\n",
    "                    , period_lines = 'Q'\n",
    "                    , df_filter_lines = True # (df['OrderId'].isin(df.loc[df['Billing Company'] == 'Sound&Pixel','OrderId']))\n",
    "                    , drill_down_lines = ['lineitem_sku'] #['Billing Company','Lineitem sku']\n",
    "                    , dump = False)"
   ]
  },
  {
   "cell_type": "code",
   "execution_count": null,
   "metadata": {},
   "outputs": [],
   "source": [
    "# Extract different timeseries for the sale channels\n",
    "\n",
    "year_start = str(UT.make_date(date_start)[0])\n",
    "\n",
    "channels, df4 = UT.make_pivot_orders_channel(\n",
    "                    df\n",
    "                    , period = 'M' # RESAMPLES on a MONTHLY BASIS (no need to interpolate because that's how the original data are)\n",
    "                    , date_start = (2016,1,1)\n",
    "                    , date_end = UT.make_date(date_end)\n",
    "                    , roll = 12\n",
    "                    )\n",
    "\n",
    "df4.loc[:,[c + '_cum' for c in channels]].plot(title='Monthly Sales cumulated by sale channel');\n",
    "\n",
    "df4.loc[year_start, channels].plot(title='Monthly Sales by sale channel');\n",
    "df4.loc[year_start,[c + '_diff' for c in channels]].plot(title='Monthly Sales difference by sale channel');\n",
    "df4.loc[year_start,[c + '_roll' for c in channels]].plot(title='Monthly Sales rolling mean by sale channel');\n",
    "\n",
    "fig = plt.figure()\n",
    "ax = plt.gca()\n",
    "for c in channels:\n",
    "    X = df4[[c]].index.values.astype('float')\n",
    "    z = np.reshape(np.polyfit(X, df4[[c]], 1), (-1,))\n",
    "    p = np.poly1d(z)\n",
    "    ax.plot(X, p(X))\n",
    "ax.set_title('Monthly Sales Trend by sale channel')\n",
    "ax.legend(channels)\n",
    "ax.set_xticklabels('');\n",
    "\n",
    "# Timeseries for the Total sales\n",
    "\n",
    "timeseries = df4.Total\n",
    "timeseries.shape\n",
    "\n",
    "# Plot mean, variance, and rolling statistics\n",
    "\n",
    "WINDOW = 3 # MONTHS\n",
    "\n",
    "# Split the total into chunks\n",
    "chunks = np.split(timeseries, indices_or_sections=3) \n",
    "\n",
    "# Calculate and display mean and variance\n",
    "mean_vals = np.mean(chunks,axis=1)\n",
    "var_vals = np.var(chunks,axis=1)\n",
    "vals = {'mean_vals': mean_vals , 'var_vals': var_vals}\n",
    "mean_var = pd.DataFrame(vals)\n",
    "\n",
    "# Plot the data adding resample on a quarterly base and rolling view\n",
    "fig = plt.figure()\n",
    "plt.plot(timeseries, 'b')\n",
    "plt.plot(timeseries.rolling(window=WINDOW).mean(), 'r')\n",
    "plt.plot(timeseries.rolling(window=WINDOW).std(), 'y')\n",
    "plt.title('Time series')\n",
    "plt.legend(['Total by month', 'Rolling mean window = {}'.format(WINDOW), 'Rolling std dev window = {}'.format(WINDOW)])\n",
    "plt.show()\n",
    "\n",
    "# Boxplot to show the mean and variance trend\n",
    "fig = plt.figure()\n",
    "ax = sns.boxplot(x=timeseries.index.month, y=timeseries)\n",
    "ax.set_title('Boxplot total sales for month')\n",
    "plt.grid(b=True)\n",
    "plt.show()\n",
    "\n",
    "top_distributors = UT.make_pivot_orders(\n",
    "        df\n",
    "        , UT.make_date(date_start)\n",
    "        , UT.make_date(date_end)\n",
    "        , period = 'M'\n",
    "        , df_filter = True\n",
    "        , drill_down = ['billing_company']  \n",
    "        , dump = False)\n",
    "top_distributors.loc[top_distributors.index != 'Total', 'Total']\\\n",
    ".nlargest(10)\\\n",
    ".plot(kind='bar')\n",
    "plt.show()\n",
    "\n",
    "top_sku = UT.make_pivot_orderlines(\n",
    "        df\n",
    "        , UT.make_date(date_start)\n",
    "        , UT.make_date(date_end)\n",
    "        , period = 'M'\n",
    "        , df_filter = True\n",
    "        , drill_down = ['lineitem_sku'] \n",
    "        , dump = False)\n",
    "top_sku.loc[top_sku.index != 'Total','Total']\\\n",
    ".nlargest(10)\\\n",
    ".plot(kind='bar')\n",
    "plt.show()\n",
    "\n",
    "top_models = UT.make_pivot_orderlines(\n",
    "        df\n",
    "        , UT.make_date(date_start)\n",
    "        , UT.make_date(date_end)\n",
    "        , period = 'M'\n",
    "        , df_filter = True\n",
    "        , drill_down = ['lineitem_model']  \n",
    "        , dump = False)\n",
    "top_models.loc[top_models.index != 'Total', 'Total']\\\n",
    ".nlargest(10)\\\n",
    ".plot(kind='bar')\n",
    "plt.show()"
   ]
  },
  {
   "cell_type": "code",
   "execution_count": null,
   "metadata": {},
   "outputs": [],
   "source": []
  }
 ],
 "metadata": {
  "extensions": {
   "jupyter_dashboards": {
    "activeView": "grid_default",
    "version": 1,
    "views": {
     "grid_default": {
      "cellMargin": 2,
      "defaultCellHeight": 60,
      "maxColumns": 12,
      "name": "grid",
      "type": "grid"
     }
    }
   }
  },
  "kernelspec": {
   "display_name": "Python 3",
   "language": "python",
   "name": "python3"
  },
  "language_info": {
   "codemirror_mode": {
    "name": "ipython",
    "version": 3
   },
   "file_extension": ".py",
   "mimetype": "text/x-python",
   "name": "python",
   "nbconvert_exporter": "python",
   "pygments_lexer": "ipython3",
   "version": "3.9.5"
  },
  "toc-autonumbering": false,
  "toc-showcode": false,
  "toc-showmarkdowntxt": false,
  "toc-showtags": true
 },
 "nbformat": 4,
 "nbformat_minor": 4
}
