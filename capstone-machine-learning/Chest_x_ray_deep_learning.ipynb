{
 "cells": [
  {
   "cell_type": "markdown",
   "metadata": {},
   "source": [
    "# CHEST X-RAY IMAGE CLASSIFICATION PROJECT\n",
    "\n",
    "Paolo Cavadini, June 2021.\n",
    "\n",
    "Dataset: https://www.kaggle.com/paultimothymooney/chest-xray-pneumonia\n",
    "\n",
    "Acknowledgements:\n",
    "Data: https://data.mendeley.com/datasets/rscbjbr9sj/2\n",
    "\n",
    "License: CC BY 4.0\n",
    "Citation: http://www.cell.com/cell/fulltext/S0092-8674(18)30154-5"
   ]
  },
  {
   "cell_type": "markdown",
   "metadata": {},
   "source": [
    "**You can also find the Notebook in GitHub: https://github.com/pcavad/Deep_learning/blob/main/Chest_x_ray_deep_learning.ipynb**"
   ]
  },
  {
   "cell_type": "markdown",
   "metadata": {},
   "source": [
    "### Business understanding - main objective of the analysis ###\n",
    "\n",
    "The business context is identifying Medical Diagnoses and Treatable Diseases by Image-Based Deep Learning. The main objective is to prove how a AI system can accurately distinguish pneumonia on chest X-rays. This has potential for generalized high-impact application in biomedical imaging. In addition to that I meant to experiment the impact of transfer learning to spot Covid 19 cases in an etherogeneous dataset, and the use of autoencoders to improve the performance of the analysis.\n",
    "\n",
    "### Business goal ###\n",
    "\n",
    "I ultimately want to classify each image as ’normal’ or affected by ‘pneumonia’ and assign a probablity to each class. The goal is to exceed a 95% accuracy.\n",
    "\n",
    "### Summary and key findings ###\n",
    "\n",
    "I have implemented a Deep Learning neural network using Keras which will process each image and assign a probability for a diagnosis which accuracy is above 95%.\n",
    "\n",
    "**1st step**: **Logistic Regression** to set a baseline for classification.\n",
    "\n",
    "**2nd step**: modeling a Deep Learning neural network **CNN**:\n",
    "\n",
    "- 4 blocks with convolution with maxpooling and dropout to reduce overfitting\n",
    "- 1 flatten layer followed by two dense layers, and 1 dropout layer in between\n",
    "- 32 filter (output depth) for the conv 2D layers\n",
    "- parameters for fine tuning:\n",
    "    - activation function (default = relu)\n",
    "    - kernel size (default = 5): the height and width of the kernel to be used\n",
    "    - stride (default = 2) \n",
    "    - padding (default = same, results in padding with zeros evenly)\n",
    "    - input shape (50,50,3) (compromise between accuracy and response time)\n",
    "- 1,210,177 trainable parameters\n",
    "\n",
    "Training:\n",
    "\n",
    "- RMSprop optimizer\n",
    "- the binary_crossentropy loss function (common choice for classification)\n",
    "- the binary accuracy metric (easy to interpret)\n",
    "- batch size of 32 (compromise between accuracy and response time)\n",
    "- 10 epochs\n",
    "\n",
    "NOTE: I experimented for long time with Kernel size, stride and padding before freezing the design. For easiness of presentation I report only a part of the fine tuning.\n",
    "\n",
    "**3rd step**: **feature engineering**:\n",
    "\n",
    "- fine tuning with loop:\n",
    "    - activation functions: 'relu', 'sigmoid', 'tanh’\n",
    "    - optimizers: 'adam', 'rmsprop’, 'SGD'\n",
    "\n",
    "I run 1 epoch for each loop and came up with the combination which maximizes the accuracy metric. Each time the loop found a better performance, the code saved the model to be re-used during the later fine tuning steps. \n",
    "\n",
    "- use the scikit-learn class_weight to address the bias between the classes.\n",
    "\n",
    "- use Keras ImageDataGenerator data augmentation to increase the number of images (flip, rotate).\n",
    "\n",
    "**4th step**: **training with more regularization**:\n",
    "\n",
    "- ModelCheckpoint: save a copy of the best performing model when an epoch that improves the metrics ends.\n",
    "- EarlyStopping callback: stop training when the difference between training and validation error starts to increase.\n",
    "- ReduceLROnPlateau: monitors the learning rate and if no improvement is seen for a (patience) number of epochs then the learning rate is reduced by a factor specified as one of the parameters.\n",
    "\n",
    "**Results:**\n",
    "\n",
    "|Model|Accuracy score|Val Binary Accuracy|\n",
    "|---|---|---|\n",
    "|Logistic Regression|94.62%|-|\n",
    "|CNN 4 Conv2D|95.56%|96.33%|\n",
    "|CNN + best optimizer and activation function|-|96.76%|\n",
    "|CNN + class weights|-|96.42%|\n",
    "|CNN + data augmentation|-|83.62%|\n",
    "|CNN with more regularization|96.84%|96.84%|\n",
    "\n",
    "**5th step**: **plotting** the validation curves, loss and accuracy, and a confusion matrix.\n",
    "\n",
    "The loss and accuracy curves of the best scoring model show that it is still somehow overfitting and more fine tuning would be necessary:\n",
    "\n",
    "![CNN](img/Conv2D.png)\n",
    "\n",
    "Confusion matrix for the Logistic Regression (top), and for the CNN with more regularization (bottom), which looks slightly more efficient:\n",
    "\n",
    "![LR](img/CM_LR.png) \n",
    "\n",
    "![CNN](img/CM_CNN.png) \n",
    "\n",
    "**6th step**: **Transfer learning**: \n",
    "\n",
    "I fit a CNN Conv2D composed of feature layers and classification layers using the dataset. Next I set the feature layers as non trainable and I fit the same CNN to classify a new (!) dataset composed of etherogeneus Covid19 scans.\n",
    "\n",
    "|Dataset|Run time|Epochs|Trainable params|Accuracy metric|Val Binary Accuracy|\n",
    "|---|---|---|---|---|---|\n",
    "|Original|173.40 sec|10|1,210,177|90.78%|99.32%|\n",
    "|Covid19|184.97 sec|10|132,097|92.50%|90.36%|\n",
    "\n",
    "\n",
    "Loss and validation curves for the Covid19 dataset which fit only the classification layer. The accuracy shows best after 6 of 10 epochs:\n",
    "\n",
    "![Transfer learning](img/transfer_learning.png)\n",
    "\n",
    "Test Covid19 dataset: https://www.kaggle.com/tawsifurrahman/covid19-radiography-database\n",
    "\n",
    "**7th step**: **Autoencoders**:\n",
    "\n",
    "I compared a scikit-learn PCA and 2 Keras autoencoders. I run the encode and decode steps, and measured the mse for the orginal and the reconstructed data. The PCA scored better because of isufficient fine tuning of the autoencoders although I experimented additng a hidden layer. \n",
    "\n",
    "Using the re-constructed data I visualized a random scan and fit a CNN. The Accuracy metric isn't great **but the run time was considerably faster than training the same CNN (40 sec instead of 181 sec**).\n",
    "\n",
    "|Model|epochs|trainable params|Run time|mse|Accuracy score|Binary Accuracy|\n",
    "|---|---|---|---|---|---|---|\n",
    "|PCA scikit-learn|-|-|-|2.90|-|-|-|\n",
    "|CNN reconstructed with PCA|10|1,210,177|37.29 sec|-|95.82%|91.06%|\n",
    "|Keras autoencoder|5|1,927,628|-|17.09|-|-|\n",
    "|CNN reconstructed with autoencoder 1|10|1,210,177|36.81 sec|-|77.82%|87.66%|\n",
    "|Keras autoencoder with add hidden layer|5|3,913,676|-|17.22|-|-|\n",
    "|CNN reconstructed with autoencoder 2|10|1,210,177|41.30 sec|-|83.79%|82.20%|\n",
    "\n",
    "With PCA, the explained variance was > 90% with 200 of 7500 flattened features:\n",
    "\n",
    "![PCA explained variance](img/PCA_variance.png) \n",
    "\n",
    "Loss and validation curves for the dataset reconstructed by scikit-learn PCA, which outperforms the Autoencoder:\n",
    "\n",
    "![PCA](img/PCA.png) \n",
    "\n",
    "Loss and validation curves for the dataset reconstructed using the second Keras Autoencoder Model:\n",
    "\n",
    "![AE2](img/AE2.png) \n",
    "\n",
    "I conclude that more fine tuning of the Autoencoder will be necessary.\n",
    "\n",
    "### Possible flaws in the model and possible improvements ###\n",
    "\n",
    "The main limitations relate to my computing power instead of the dataset. I expect that moving the notebook to the a could service will open new scenarios:\n",
    "\n",
    "- converting the images to higher resolution arrays (e.g. 150 x 150 instead of 50 x 50)\n",
    "- fine tuning of the models\n",
    "- leverage on parallel processing"
   ]
  },
  {
   "cell_type": "markdown",
   "metadata": {},
   "source": [
    "### Brief description of the data ###\n",
    "\n",
    "The dataset contains subfolders for each image category (Pneumonia/Normal). 5.856 images, 1583 normal, 4273 with pneumonia, size (150,150,3) , class labels (0=normal, 1=pneumonia). Chest X-ray images (anterior-posterior) were selected from retrospective cohorts of pediatric patients of one to five years old from Guangzhou Women and Children’s Medical Center, Guangzhou, as part of patients’ routine clinical care. For the analysis of chest x-ray images, all chest radiographs were initially screened for quality control by removing all low quality or unreadable scans. The diagnoses for the images were then graded by two expert physicians. In order to account for any grading errors, the evaluation set was also checked by a third expert.\n",
    "\n",
    "![scan](img/scan.jpeg)\n",
    "\n",
    "ETL:\n",
    "- extracted the images and converted into arrays using Keras preprocessing\n",
    "- explored the data: visulaization of sample scans, distribution of the labels, 2D and 3D representation of a random scan\n",
    "- input size: 50 x 50 x 3 (RGB), for the practicality because I don't have enough processing power to perfom the analysis with 150 x 150\n",
    "- normalizing and casting as float32\n",
    "- used scikit-learn StratifiedShuffleSplit to generate the train and test sets because the classes were unbalanced due to prominent cases of pneumonia\n",
    "\n",
    "Note, during the course of supervised classification I used imbalanced-learn, while for this analysis I decided to experiment the use of weights duirng training of the neural network, and data augmentation (i.e. artificially flip and rotate the images to increase them and present in different positions).\n",
    "\n",
    "![Labels](img/labels.png)"
   ]
  },
  {
   "cell_type": "markdown",
   "metadata": {},
   "source": [
    "**Thank you! Please go through the notebook to look into the details and see charts and images.**"
   ]
  },
  {
   "cell_type": "code",
   "execution_count": 1,
   "metadata": {},
   "outputs": [],
   "source": [
    "import os\n",
    "import time\n",
    "import warnings\n",
    "warnings.filterwarnings(action='ignore')\n",
    "\n",
    "import keras \n",
    "from keras.preprocessing import image\n",
    "from keras.preprocessing.image import ImageDataGenerator\n",
    "from keras import backend as K\n",
    "from keras.models import Sequential, load_model, Model\n",
    "from keras import layers\n",
    "from keras.layers import Input, Conv2D, Activation, Dense, Dropout, Flatten, MaxPooling2D\n",
    "from keras.layers import Conv2D, MaxPool2D, BatchNormalization, SeparableConv2D ##\n",
    "from keras.optimizers import Adam, SGD, Adagrad, Adadelta, RMSprop ##\n",
    "from keras.callbacks import ReduceLROnPlateau, ModelCheckpoint,EarlyStopping \n",
    "import itertools\n",
    "import matplotlib.pyplot as plt\n",
    "plt.style.use('seaborn')\n",
    "from mpl_toolkits.mplot3d import Axes3D\n",
    "%matplotlib inline\n",
    "import numpy as np\n",
    "import pandas as pd\n",
    "from sklearn.model_selection import StratifiedShuffleSplit\n",
    "from sklearn.linear_model import LogisticRegression\n",
    "from sklearn.metrics import confusion_matrix, accuracy_score, roc_auc_score, roc_curve ##\n",
    "from sklearn.utils import class_weight\n",
    "import seaborn as sns\n",
    "import tensorflow as tf"
   ]
  },
  {
   "cell_type": "markdown",
   "metadata": {},
   "source": [
    "## DATA ETL ##"
   ]
  },
  {
   "cell_type": "markdown",
   "metadata": {},
   "source": [
    "**Read scans from the file system and encode the labels.**"
   ]
  },
  {
   "cell_type": "code",
   "execution_count": 2,
   "metadata": {},
   "outputs": [],
   "source": [
    "def get_path(PATH, ext='.jpeg'):\n",
    "    '''\n",
    "    This function stores the file paths and the labels for normal and pneumonia images\n",
    "    '''\n",
    "    try:\n",
    "        #saving jpeg only image paths in lists for nromal and penumonia\n",
    "        paths_norm = [PATH + 'norm/' + p for p in os.listdir(PATH + 'norm/') if p.endswith(ext)] #reads file paths\n",
    "        paths_pneu = [PATH + 'pneu/' + p for p in os.listdir(PATH + 'pneu/') if p.endswith(ext)] #reads file paths\n",
    "        #persisting the correspondent class labels\n",
    "        labels_norm = [0 for i in paths_norm]\n",
    "        labels_pneu = [1 for i in paths_pneu]\n",
    "    except Exception as e:\n",
    "        print(e)\n",
    "        \n",
    "    return paths_norm, paths_pneu, labels_norm, labels_pneu"
   ]
  },
  {
   "cell_type": "code",
   "execution_count": 3,
   "metadata": {},
   "outputs": [],
   "source": [
    "def get_images(n, p, ln, lp):\n",
    "    '''\n",
    "    This function loads the images using Keras preprocessing\n",
    "    '''\n",
    "    try:\n",
    "        imgs_n = [image.load_img(img_path, target_size=(IMAGE_SIZE), color_mode='rgb') for img_path in n] ## rgb scale\n",
    "        imgs_p = [image.load_img(img_path, target_size=(IMAGE_SIZE), color_mode='rgb') for img_path in p] \n",
    "        xn = np.array([image.img_to_array(img, data_format='channels_last') for img in imgs_n]) # channel last\n",
    "        xp = np.array([image.img_to_array(img, data_format='channels_last') for img in imgs_p])\n",
    "    except Exception as e:\n",
    "        print(e)\n",
    "\n",
    "    return xn, xp"
   ]
  },
  {
   "cell_type": "code",
   "execution_count": 4,
   "metadata": {},
   "outputs": [],
   "source": [
    "# Setting the image size\n",
    "IMAGE_SIZE = (50,50)\n",
    "\n",
    "# setting the path\n",
    "PATH = \"./data/\""
   ]
  },
  {
   "cell_type": "code",
   "execution_count": 5,
   "metadata": {},
   "outputs": [],
   "source": [
    "# Getting lists\n",
    "n, p, ln, lp = get_path(PATH)\n",
    "\n",
    "# Getting images in numeric format\n",
    "xn, xp = get_images(n, p, ln, lp)"
   ]
  },
  {
   "cell_type": "code",
   "execution_count": 6,
   "metadata": {},
   "outputs": [
    {
     "name": "stdout",
     "output_type": "stream",
     "text": [
      "(5856, 50, 50, 3) (5856, 1)\n"
     ]
    }
   ],
   "source": [
    "# Merging the features and the class labels of the scans with a without pneumonia\n",
    "\n",
    "X = np.vstack((xn, xp))\n",
    "Y = np.vstack((np.reshape(np.array(ln),(-1,1)), np.reshape(np.array(lp),(-1,1))))\n",
    "print(X.shape, Y.shape)"
   ]
  },
  {
   "cell_type": "code",
   "execution_count": 7,
   "metadata": {},
   "outputs": [],
   "source": [
    "# Saving features and labels to re-use\n",
    "\n",
    "np.save('./data/X.npy', X)\n",
    "np.save('./data/Y.npy', Y)"
   ]
  },
  {
   "cell_type": "code",
   "execution_count": 2,
   "metadata": {},
   "outputs": [],
   "source": [
    "# load pre-proessed data if I need\n",
    "\n",
    "# X = np.load('./data/X.npy')\n",
    "# Y = np.load('./data/Y.npy')"
   ]
  },
  {
   "cell_type": "markdown",
   "metadata": {},
   "source": [
    "### DATA EXPLORATION ###"
   ]
  },
  {
   "cell_type": "code",
   "execution_count": 13,
   "metadata": {},
   "outputs": [],
   "source": [
    "def show_scan(x, num_scans=1):\n",
    "    '''\n",
    "    This function shows random scans\n",
    "    '''\n",
    "    plt.figure(figsize=(10,10))\n",
    "    for i in range(1,num_scans + 1):\n",
    "        plt.subplot(1,3,i)\n",
    "        random_num = np.random.randint(0,len(X))\n",
    "        plt.imshow(X[random_num][:,:,:]/255) # normalizing\n",
    "        plt.grid(False)\n",
    "        plt.axis('off')\n",
    "        plt.title('pneumonia' if Y[random_num] == 1 else 'normal')\n",
    "    plt.show()\n",
    "    \n",
    "    pass"
   ]
  },
  {
   "cell_type": "code",
   "execution_count": 15,
   "metadata": {},
   "outputs": [
    {
     "data": {
      "image/png": "[encoded data removed]",
      "text/plain": [
       "<Figure size 720x720 with 3 Axes>"
      ]
     },
     "metadata": {
      "needs_background": "light"
     },
     "output_type": "display_data"
    }
   ],
   "source": [
    "# Visualizing random images from train samples\n",
    "\n",
    "show_scan(X,3)"
   ]
  },
  {
   "cell_type": "code",
   "execution_count": 9,
   "metadata": {},
   "outputs": [
    {
     "data": {
      "image/png": "[encoded data removed]",
      "text/plain": [
       "<Figure size 401.5x360 with 1 Axes>"
      ]
     },
     "metadata": {
      "needs_background": "light"
     },
     "output_type": "display_data"
    }
   ],
   "source": [
    "# Distribution of the labels\n",
    "\n",
    "fg = sns.displot(data=Y, binwidth=0.4)\n",
    "fg.ax.set_xticks([0.2,1])\n",
    "fg.ax.set_xticklabels(['0 = normal','1 = pneumonia'])\n",
    "fg.ax.set_xlabel('class labels')\n",
    "plt.show()"
   ]
  },
  {
   "cell_type": "code",
   "execution_count": 43,
   "metadata": {},
   "outputs": [
    {
     "name": "stdout",
     "output_type": "stream",
     "text": [
      "min: 0.00, max: 255.00\n"
     ]
    },
    {
     "data": {
      "image/png": "[encoded data removed]",
      "text/plain": [
       "<Figure size 432x288 with 1 Axes>"
      ]
     },
     "metadata": {
      "needs_background": "light"
     },
     "output_type": "display_data"
    }
   ],
   "source": [
    "# Distribution of the data along the first dimension\n",
    "\n",
    "print('min: {:.2f}, max: {:.2f}'.format(X[:,0,0,0].min(), X[:,0,0,0].max()))\n",
    "plt.hist(X[:,0,0,0])\n",
    "plt.show()"
   ]
  },
  {
   "cell_type": "code",
   "execution_count": 18,
   "metadata": {},
   "outputs": [],
   "source": [
    "# Picking a random scan\n",
    "\n",
    "random_num = np.random.randint(0,len(X))"
   ]
  },
  {
   "cell_type": "code",
   "execution_count": 44,
   "metadata": {},
   "outputs": [
    {
     "name": "stdout",
     "output_type": "stream",
     "text": [
      "min: 3.00, max: 182.00\n"
     ]
    },
    {
     "data": {
      "image/png": "[encoded data removed]",
      "text/plain": [
       "<Figure size 432x288 with 1 Axes>"
      ]
     },
     "metadata": {
      "needs_background": "light"
     },
     "output_type": "display_data"
    }
   ],
   "source": [
    "# Distribution of the data along the second dimension for the selected scan\n",
    "\n",
    "print('min: {:.2f}, max: {:.2f}'.format(X[random_num,:,0,0].min(), X[random_num,:,0,0].max()))\n",
    "plt.plot(X[random_num,:,0,0])\n",
    "plt.show()"
   ]
  },
  {
   "cell_type": "code",
   "execution_count": 45,
   "metadata": {},
   "outputs": [
    {
     "name": "stdout",
     "output_type": "stream",
     "text": [
      "min: 5.00, max: 182.00\n"
     ]
    },
    {
     "data": {
      "image/png": "[encoded data removed]",
      "text/plain": [
       "<Figure size 432x288 with 1 Axes>"
      ]
     },
     "metadata": {
      "needs_background": "light"
     },
     "output_type": "display_data"
    }
   ],
   "source": [
    "# Distribution of the data along the third dimension for the selected scan\n",
    "\n",
    "print('min: {:.2f}, max: {:.2f}'.format(X[random_num,0,:,0].min(), X[random_num,0,:,0].max()))\n",
    "plt.plot(X[random_num,0,:,0])\n",
    "plt.show()"
   ]
  },
  {
   "cell_type": "code",
   "execution_count": 46,
   "metadata": {},
   "outputs": [
    {
     "name": "stdout",
     "output_type": "stream",
     "text": [
      "min: 182.00, max: 182.00\n"
     ]
    }
   ],
   "source": [
    "# Min and Max for the last dimension for the selected scan\n",
    "\n",
    "print('min: {0:.2f}, max: {1:.2f}'.format(X[random_num,0,0,:].min(), X[random_num,0,0,:].max()))"
   ]
  },
  {
   "cell_type": "code",
   "execution_count": 24,
   "metadata": {},
   "outputs": [
    {
     "data": {
      "image/png": "[encoded data removed]",
      "text/plain": [
       "<Figure size 1152x576 with 1 Axes>"
      ]
     },
     "metadata": {
      "needs_background": "light"
     },
     "output_type": "display_data"
    }
   ],
   "source": [
    "# 3D representation of the selected scan\n",
    "\n",
    "fig = plt.figure(figsize=(16,8))\n",
    "ax = Axes3D(fig)\n",
    "\n",
    "ax.scatter(xs=X[random_num][:,0,0], ys=X[random_num][0,:,0], marker='o')\n",
    "ax.set_title('Scan: ' + str(random_num))\n",
    "plt.show()"
   ]
  },
  {
   "cell_type": "markdown",
   "metadata": {},
   "source": [
    "### FEATURE ENGINEERING ###"
   ]
  },
  {
   "cell_type": "markdown",
   "metadata": {},
   "source": [
    "**Reshape the images based on channel**"
   ]
  },
  {
   "cell_type": "code",
   "execution_count": 47,
   "metadata": {},
   "outputs": [
    {
     "name": "stdout",
     "output_type": "stream",
     "text": [
      "(5856, 50, 50, 3)\n"
     ]
    }
   ],
   "source": [
    "img_rows, img_cols = IMAGE_SIZE\n",
    "\n",
    "if K.image_data_format() == 'channels_first':\n",
    "    X = X.reshape(X.shape[0], 3, img_rows, img_cols)\n",
    "    INPUT_SHAPE = (3, img_rows, img_cols)\n",
    "else:\n",
    "    X = X.reshape(X.shape[0], img_rows, img_cols, 3)\n",
    "    INPUT_SHAPE = (img_rows, img_cols, 3)\n",
    "    \n",
    "print(X.shape)"
   ]
  },
  {
   "cell_type": "markdown",
   "metadata": {},
   "source": [
    "**Normalizing and casting**"
   ]
  },
  {
   "cell_type": "code",
   "execution_count": 48,
   "metadata": {},
   "outputs": [],
   "source": [
    "# Divide by 255 to obtain an array of values between 0 and 1 which will be digested by the algorithm\n",
    "\n",
    "X = X/255\n",
    "\n",
    "X = X.astype('float32')\n",
    "Y = Y.astype('float32')"
   ]
  },
  {
   "cell_type": "markdown",
   "metadata": {},
   "source": [
    "**Train-test split**"
   ]
  },
  {
   "cell_type": "code",
   "execution_count": 49,
   "metadata": {},
   "outputs": [
    {
     "name": "stdout",
     "output_type": "stream",
     "text": [
      "(4684, 50, 50, 3) (4684, 1) (1172, 50, 50, 3) (1172, 1)\n"
     ]
    }
   ],
   "source": [
    "# use stratified shuffle split\n",
    "strat_shuf_split = StratifiedShuffleSplit(n_splits=1, test_size=0.2, random_state=0)\n",
    "\n",
    "# generate the train and test indexes\n",
    "train_index, test_index = next(strat_shuf_split.split(X, Y))\n",
    "\n",
    "# generate the train datasets\n",
    "X_train = X[train_index,:]\n",
    "y_train = Y[train_index]\n",
    "\n",
    "# generate the test datasets\n",
    "X_test  = X[test_index,:]\n",
    "y_test  = Y[test_index]\n",
    "\n",
    "print(X_train.shape\n",
    "    , y_train.shape\n",
    "    , X_test.shape\n",
    "    , y_test.shape\n",
    ")"
   ]
  },
  {
   "cell_type": "markdown",
   "metadata": {},
   "source": [
    "## MODEL DEFINITION ##"
   ]
  },
  {
   "cell_type": "markdown",
   "metadata": {},
   "source": [
    "**Logistics regression (non-deep learning model as baseline)**"
   ]
  },
  {
   "cell_type": "code",
   "execution_count": 50,
   "metadata": {},
   "outputs": [],
   "source": [
    "# Re-shaping the data to fit for a logistics regression\n",
    "\n",
    "X_train_LR = np.reshape(X_train, (len(X_train),-1))\n",
    "X_test_LR = np.reshape(X_test, (len(X_test),-1))\n",
    "y_train_LR = np.reshape(y_train, (len(y_train),))\n",
    "y_test_LR = np.reshape(y_test, (len(y_test),))"
   ]
  },
  {
   "cell_type": "code",
   "execution_count": 51,
   "metadata": {},
   "outputs": [
    {
     "data": {
      "text/plain": [
       "array([1., 1., 0., ..., 1., 1., 1.], dtype=float32)"
      ]
     },
     "execution_count": 51,
     "metadata": {},
     "output_type": "execute_result"
    }
   ],
   "source": [
    "# Fitting and predicting using normal parameters\n",
    "\n",
    "LR = LogisticRegression(solver='liblinear', random_state=0).fit(X_train_LR,y_train_LR)\n",
    "yhat = LR.predict(X_test_LR)\n",
    "yhat_proba = LR.predict_proba(X_test_LR)\n",
    "yhat"
   ]
  },
  {
   "cell_type": "code",
   "execution_count": 52,
   "metadata": {},
   "outputs": [
    {
     "name": "stdout",
     "output_type": "stream",
     "text": [
      "Accuracy score: 94.62%\n"
     ]
    }
   ],
   "source": [
    "# Printing the sci-kit learn accuracy score which I'll use as baseline\n",
    "\n",
    "print('Accuracy score: {:.2f}%'.format(accuracy_score(y_test_LR, yhat)*100))"
   ]
  },
  {
   "cell_type": "code",
   "execution_count": 54,
   "metadata": {},
   "outputs": [],
   "source": [
    "def plot_confusion_matrix(cm, classes,\n",
    "                          normalize=False,\n",
    "                          title='Confusion matrix',\n",
    "                          cmap=plt.cm.Blues):\n",
    "    \"\"\"\n",
    "    This function prints and plots the confusion matrix.\n",
    "    \"\"\"\n",
    "    plt.imshow(cm, interpolation='nearest', cmap=cmap)\n",
    "    plt.title(title)\n",
    "    plt.colorbar()\n",
    "    tick_marks = np.arange(len(classes))\n",
    "    plt.xticks(tick_marks, classes, rotation=45)\n",
    "    plt.yticks(tick_marks, classes)\n",
    "    thresh = cm.max() / 2.\n",
    "    for i, j in itertools.product(range(cm.shape[0]), range(cm.shape[1])):\n",
    "        plt.text(j, i, format(cm[i, j], '.0f'),\n",
    "                 horizontalalignment=\"center\",\n",
    "                 color=\"white\" if cm[i, j] > thresh else \"black\")\n",
    "\n",
    "    plt.tight_layout()\n",
    "    plt.ylabel('True label')\n",
    "    plt.xlabel('Predicted label')\n",
    "    \n",
    "    pass"
   ]
  },
  {
   "cell_type": "code",
   "execution_count": 55,
   "metadata": {},
   "outputs": [
    {
     "data": {
      "image/png": "[encoded data removed]",
      "text/plain": [
       "<Figure size 432x288 with 2 Axes>"
      ]
     },
     "metadata": {
      "needs_background": "light"
     },
     "output_type": "display_data"
    }
   ],
   "source": [
    "# Compute confusion matrix\n",
    "cnf_matrix = confusion_matrix(y_test, yhat, labels=[1,0])\n",
    "\n",
    "# Plot confusion matrix\n",
    "plot_confusion_matrix(cnf_matrix, classes=['pneumonia','normal'],normalize= False,  title='Confusion matrix')"
   ]
  },
  {
   "cell_type": "markdown",
   "metadata": {},
   "source": [
    "## DEEP LEARNING ##"
   ]
  },
  {
   "cell_type": "markdown",
   "metadata": {},
   "source": [
    "### Modeling a CNN ###"
   ]
  },
  {
   "cell_type": "code",
   "execution_count": 192,
   "metadata": {},
   "outputs": [],
   "source": [
    "def modeling(activation_func='relu', \n",
    "             conv_dim = 5, \n",
    "             strides_dim = 2, \n",
    "             input_shape_img=None, \n",
    "             num_classes = 1):\n",
    "    '''\n",
    "    This function creates the model based on different parameters, complile and save it.\n",
    "    '''\n",
    "\n",
    "    model = Sequential()\n",
    "    \n",
    "    # Feature layers\n",
    "    \n",
    "    # 1st conv layer, filter 32, kernel size = (5,5), stride = (2,2), padding    \n",
    "    model.add(Conv2D(32, conv_dim, strides = strides_dim, padding='same', input_shape=input_shape_img))\n",
    "    model.add(Activation(activation_func))\n",
    "    # MaxPooling for regularization\n",
    "    model.add(MaxPooling2D(pool_size=(2, 2), padding='same'))\n",
    "    # 2nd conv layer, filter 64\n",
    "    model.add(Conv2D(64, conv_dim, strides = strides_dim, padding='same'))\n",
    "    model.add(Activation(activation_func))\n",
    "    # Dropout for regularization\n",
    "    model.add(Dropout(0.1))\n",
    "    # 3rd conv layer, filter 128\n",
    "    model.add(Conv2D(128, conv_dim, strides = strides_dim, padding='same')) ## (3, 3)\n",
    "    model.add(Activation(activation_func))\n",
    "    \n",
    "    model.add(MaxPooling2D(pool_size=(2, 2), padding='same'))\n",
    "    # 4th conv layer, filter 256\n",
    "    model.add(Conv2D(256, conv_dim, strides = strides_dim, padding='same'))\n",
    "    model.add(Activation(activation_func))\n",
    "\n",
    "    model.add(Dropout(0.25)) # fraction of the input units to drop\n",
    "\n",
    "    # Classification layers\n",
    "    \n",
    "    # Flatten turns 3x3x32 into 288x1\n",
    "    model.add(Flatten())\n",
    "    # Dense layers\n",
    "    model.add(Dense(512))\n",
    "    model.add(Activation(activation_func))\n",
    "\n",
    "    model.add(Dropout(0.5))\n",
    "\n",
    "    model.add(Dense(num_classes))\n",
    "    model.add(Activation('sigmoid'))\n",
    "    \n",
    "    return model"
   ]
  },
  {
   "cell_type": "code",
   "execution_count": 193,
   "metadata": {},
   "outputs": [
    {
     "name": "stdout",
     "output_type": "stream",
     "text": [
      "Model: \"sequential_40\"\n",
      "_________________________________________________________________\n",
      "Layer (type)                 Output Shape              Param #   \n",
      "=================================================================\n",
      "conv2d_160 (Conv2D)          (None, 25, 25, 32)        2432      \n",
      "_________________________________________________________________\n",
      "activation_240 (Activation)  (None, 25, 25, 32)        0         \n",
      "_________________________________________________________________\n",
      "max_pooling2d_80 (MaxPooling (None, 13, 13, 32)        0         \n",
      "_________________________________________________________________\n",
      "conv2d_161 (Conv2D)          (None, 7, 7, 64)          51264     \n",
      "_________________________________________________________________\n",
      "activation_241 (Activation)  (None, 7, 7, 64)          0         \n",
      "_________________________________________________________________\n",
      "dropout_120 (Dropout)        (None, 7, 7, 64)          0         \n",
      "_________________________________________________________________\n",
      "conv2d_162 (Conv2D)          (None, 4, 4, 128)         204928    \n",
      "_________________________________________________________________\n",
      "activation_242 (Activation)  (None, 4, 4, 128)         0         \n",
      "_________________________________________________________________\n",
      "max_pooling2d_81 (MaxPooling (None, 2, 2, 128)         0         \n",
      "_________________________________________________________________\n",
      "conv2d_163 (Conv2D)          (None, 1, 1, 256)         819456    \n",
      "_________________________________________________________________\n",
      "activation_243 (Activation)  (None, 1, 1, 256)         0         \n",
      "_________________________________________________________________\n",
      "dropout_121 (Dropout)        (None, 1, 1, 256)         0         \n",
      "_________________________________________________________________\n",
      "flatten_40 (Flatten)         (None, 256)               0         \n",
      "_________________________________________________________________\n",
      "dense_94 (Dense)             (None, 512)               131584    \n",
      "_________________________________________________________________\n",
      "activation_244 (Activation)  (None, 512)               0         \n",
      "_________________________________________________________________\n",
      "dropout_122 (Dropout)        (None, 512)               0         \n",
      "_________________________________________________________________\n",
      "dense_95 (Dense)             (None, 1)                 513       \n",
      "_________________________________________________________________\n",
      "activation_245 (Activation)  (None, 1)                 0         \n",
      "=================================================================\n",
      "Total params: 1,210,177\n",
      "Trainable params: 1,210,177\n",
      "Non-trainable params: 0\n",
      "_________________________________________________________________\n"
     ]
    }
   ],
   "source": [
    "# just running a test\n",
    "model = modeling(input_shape_img=INPUT_SHAPE)\n",
    "model.summary()"
   ]
  },
  {
   "cell_type": "code",
   "execution_count": 194,
   "metadata": {},
   "outputs": [
    {
     "name": "stdout",
     "output_type": "stream",
     "text": [
      "Epoch 1/10\n",
      "147/147 [==============================] - 20s 132ms/step - loss: 0.6654 - binary_accuracy: 0.7248 - val_loss: 0.2895 - val_binary_accuracy: 0.8729\n",
      "Epoch 2/10\n",
      "147/147 [==============================] - 17s 119ms/step - loss: 0.2511 - binary_accuracy: 0.9098 - val_loss: 0.1909 - val_binary_accuracy: 0.9275\n",
      "Epoch 3/10\n",
      "147/147 [==============================] - 18s 120ms/step - loss: 0.1872 - binary_accuracy: 0.9294 - val_loss: 0.2439 - val_binary_accuracy: 0.9113\n",
      "Epoch 4/10\n",
      "147/147 [==============================] - 18s 125ms/step - loss: 0.1630 - binary_accuracy: 0.9380 - val_loss: 0.1426 - val_binary_accuracy: 0.9514\n",
      "Epoch 5/10\n",
      "147/147 [==============================] - 17s 116ms/step - loss: 0.1665 - binary_accuracy: 0.9388 - val_loss: 0.1464 - val_binary_accuracy: 0.9573\n",
      "Epoch 6/10\n",
      "147/147 [==============================] - 17s 117ms/step - loss: 0.1639 - binary_accuracy: 0.9517 - val_loss: 0.1488 - val_binary_accuracy: 0.9480\n",
      "Epoch 7/10\n",
      "147/147 [==============================] - 17s 116ms/step - loss: 0.1226 - binary_accuracy: 0.9503 - val_loss: 0.1084 - val_binary_accuracy: 0.9633\n",
      "Epoch 8/10\n",
      "147/147 [==============================] - 17s 119ms/step - loss: 0.1115 - binary_accuracy: 0.9659 - val_loss: 0.1231 - val_binary_accuracy: 0.9522\n",
      "Epoch 9/10\n",
      "147/147 [==============================] - 18s 120ms/step - loss: 0.1128 - binary_accuracy: 0.9625 - val_loss: 0.1214 - val_binary_accuracy: 0.9531\n",
      "Epoch 10/10\n",
      "147/147 [==============================] - 17s 118ms/step - loss: 0.1209 - binary_accuracy: 0.9648 - val_loss: 0.1573 - val_binary_accuracy: 0.9556\n",
      "\n",
      "Accuracy score: 95.56% \n",
      "BinaryAccuracy: 96.33% \n",
      "Run in 178.53 seconds.\n"
     ]
    }
   ],
   "source": [
    "# start time\n",
    "start_time = time.time()\n",
    "\n",
    "BATCH_SIZE = 32\n",
    "\n",
    "# initiate RMSprop optimizer\n",
    "opt = RMSprop(lr=0.001) # Learning rate\n",
    "\n",
    "# Modeling\n",
    "model = modeling(input_shape_img=INPUT_SHAPE)\n",
    "\n",
    "model.compile(loss='binary_crossentropy', \n",
    "              optimizer=opt,\n",
    "              metrics=['BinaryAccuracy']) \n",
    "\n",
    "# Training\n",
    "history = model.fit(X_train, y_train,\n",
    "              batch_size=BATCH_SIZE,\n",
    "              epochs=10,\n",
    "              validation_data=(X_test, y_test),\n",
    "              shuffle=True)\n",
    "\n",
    "print('\\nAccuracy score: {:.2f}%'.format(accuracy_score(y_test, model.predict_classes(X_test))*100),\n",
    "     '\\nBinaryAccuracy: {:.2f}%'.format(np.max(history.history['val_binary_accuracy'])*100),\n",
    "     '\\nRun in {:.2f} seconds.'.format(time.time() - start_time))"
   ]
  },
  {
   "cell_type": "markdown",
   "metadata": {},
   "source": [
    "### Fine tuning ###"
   ]
  },
  {
   "cell_type": "markdown",
   "metadata": {},
   "source": [
    "**Optimizer and activation function - saving the best model**"
   ]
  },
  {
   "cell_type": "code",
   "execution_count": 195,
   "metadata": {},
   "outputs": [
    {
     "name": "stdout",
     "output_type": "stream",
     "text": [
      "147/147 [==============================] - 16s 107ms/step - loss: 0.0902 - binary_accuracy: 0.9659 - val_loss: 0.1274 - val_binary_accuracy: 0.9565\n",
      "147/147 [==============================] - 18s 120ms/step - loss: 0.0925 - binary_accuracy: 0.9651 - val_loss: 0.1123 - val_binary_accuracy: 0.9659\n",
      "147/147 [==============================] - 23s 150ms/step - loss: 0.1516 - binary_accuracy: 0.9625 - val_loss: 0.3468 - val_binary_accuracy: 0.9437\n",
      "147/147 [==============================] - 21s 135ms/step - loss: 0.1237 - binary_accuracy: 0.9585 - val_loss: 0.1223 - val_binary_accuracy: 0.9633\n",
      "147/147 [==============================] - 19s 128ms/step - loss: 0.0590 - binary_accuracy: 0.9760 - val_loss: 0.1167 - val_binary_accuracy: 0.9676\n",
      "147/147 [==============================] - 20s 130ms/step - loss: 0.1209 - binary_accuracy: 0.9676 - val_loss: 0.1581 - val_binary_accuracy: 0.9522\n",
      "147/147 [==============================] - 17s 110ms/step - loss: 0.1214 - binary_accuracy: 0.9654 - val_loss: 0.1281 - val_binary_accuracy: 0.9642\n",
      "147/147 [==============================] - 17s 113ms/step - loss: 0.0440 - binary_accuracy: 0.9838 - val_loss: 0.1216 - val_binary_accuracy: 0.9667\n",
      "147/147 [==============================] - 20s 126ms/step - loss: 0.1069 - binary_accuracy: 0.9676 - val_loss: 0.1306 - val_binary_accuracy: 0.9582\n",
      "\n",
      "The best optimizer is <class 'tensorflow.python.keras.optimizer_v2.rmsprop.RMSprop'>, the best activation function is tanh, for an accuracy of 96.76%\n"
     ]
    }
   ],
   "source": [
    "# Looping through different optimizers and activation functions to find the best score\n",
    "\n",
    "activation_functions = ['sigmoid', 'tanh', 'relu']\n",
    "optimizers = [Adam, SGD, RMSprop]\n",
    "\n",
    "# Initialize targets\n",
    "best_accuracy = 0\n",
    "best_optimizer = None\n",
    "best_activation_function = None\n",
    "\n",
    "for activation_function in activation_functions:\n",
    "    for optimizer_function in optimizers:\n",
    "        # Modeling\n",
    "        modeling(activation_func=activation_function, input_shape_img=INPUT_SHAPE) # model function\n",
    "        model.compile(loss='binary_crossentropy', \n",
    "              optimizer=optimizer_function(lr=0.001),\n",
    "              metrics=['BinaryAccuracy']) \n",
    "        # Training\n",
    "        history = model.fit( \n",
    "                            X_train, y_train,\n",
    "                            batch_size=BATCH_SIZE, #1 epoch (default)\n",
    "                            validation_data=(X_test, y_test), # validation set\n",
    "                            shuffle=True,\n",
    "                            verbose=1) \n",
    "        # Ranking and saving the best model\n",
    "        if history.history['val_binary_accuracy'][0] > best_accuracy: #val_binary_accuracy\n",
    "            best_accuracy = history.history['val_binary_accuracy'][0]\n",
    "            best_optimizer = optimizer_function\n",
    "            best_activation_function = activation_function\n",
    "            model.save('./data/best_model.h5')\n",
    "\n",
    "print('\\nThe best optimizer is {}, the best activation function is {}, for an accuracy of {:.2f}%'\n",
    "     .format(optimizer_function, best_activation_function, best_accuracy*100))"
   ]
  },
  {
   "cell_type": "markdown",
   "metadata": {},
   "source": [
    "**Reduce bias**"
   ]
  },
  {
   "cell_type": "code",
   "execution_count": 196,
   "metadata": {},
   "outputs": [
    {
     "name": "stdout",
     "output_type": "stream",
     "text": [
      "Weight for class 0: 1.85\n",
      "Weight for class 1: 0.69\n"
     ]
    }
   ],
   "source": [
    "# Finding the proportion between scans with and without pneumonia, and calculating the weights to counter-balance the bias during training\n",
    "\n",
    "# Use scikit-learn\n",
    "class_weights = class_weight.compute_class_weight('balanced', np.unique(y_train), np.reshape(y_train, (-1,)))\n",
    "\n",
    "class_weights = {0: class_weights[0], 1: class_weights[1]}\n",
    "\n",
    "print(\"Weight for class 0: {:.2f}\".format(class_weights[0]))\n",
    "print(\"Weight for class 1: {:.2f}\".format(class_weights[1]))"
   ]
  },
  {
   "cell_type": "code",
   "execution_count": 197,
   "metadata": {},
   "outputs": [
    {
     "name": "stdout",
     "output_type": "stream",
     "text": [
      "Epoch 1/10\n",
      "147/147 [==============================] - 17s 117ms/step - loss: 0.0585 - binary_accuracy: 0.9780 - val_loss: 0.1266 - val_binary_accuracy: 0.9616\n",
      "Epoch 2/10\n",
      "147/147 [==============================] - 19s 127ms/step - loss: 0.0521 - binary_accuracy: 0.9784 - val_loss: 0.1383 - val_binary_accuracy: 0.9608\n",
      "Epoch 3/10\n",
      "147/147 [==============================] - 20s 133ms/step - loss: 0.0511 - binary_accuracy: 0.9787 - val_loss: 0.1289 - val_binary_accuracy: 0.9633\n",
      "Epoch 4/10\n",
      "147/147 [==============================] - 19s 126ms/step - loss: 0.0483 - binary_accuracy: 0.9793 - val_loss: 0.1269 - val_binary_accuracy: 0.9642\n",
      "Epoch 5/10\n",
      "147/147 [==============================] - 17s 114ms/step - loss: 0.0471 - binary_accuracy: 0.9801 - val_loss: 0.1300 - val_binary_accuracy: 0.9633\n",
      "Epoch 6/10\n",
      "147/147 [==============================] - 16s 109ms/step - loss: 0.0458 - binary_accuracy: 0.9825 - val_loss: 0.1416 - val_binary_accuracy: 0.9633\n",
      "Epoch 7/10\n",
      "147/147 [==============================] - 15s 105ms/step - loss: 0.0483 - binary_accuracy: 0.9812 - val_loss: 0.1357 - val_binary_accuracy: 0.9625\n",
      "Epoch 8/10\n",
      "147/147 [==============================] - 17s 115ms/step - loss: 0.0457 - binary_accuracy: 0.9827 - val_loss: 0.1313 - val_binary_accuracy: 0.9625\n",
      "Epoch 9/10\n",
      "147/147 [==============================] - 16s 107ms/step - loss: 0.0439 - binary_accuracy: 0.9814 - val_loss: 0.1424 - val_binary_accuracy: 0.9633\n",
      "Epoch 10/10\n",
      "147/147 [==============================] - 16s 107ms/step - loss: 0.0432 - binary_accuracy: 0.9819 - val_loss: 0.1330 - val_binary_accuracy: 0.9642\n",
      "\n",
      "Adding class weights didn't improve the accuracy\n"
     ]
    }
   ],
   "source": [
    "# Training the model adding class weights\n",
    "\n",
    "# Loading the model from the most recent optimization\n",
    "model = load_model('./data/best_model.h5')\n",
    "\n",
    "# Training\n",
    "history = model.fit(\n",
    "                    X_train,y_train,\n",
    "                    batch_size=BATCH_SIZE,\n",
    "                    epochs=10,\n",
    "                    validation_data=(X_test, y_test),\n",
    "                    class_weight=class_weights, \n",
    "                    shuffle=True,\n",
    "                    verbose=1) \n",
    "\n",
    "# Verifying improvements\n",
    "if np.max(history.history['val_binary_accuracy']) > best_accuracy:\n",
    "    best_accuracy = np.max(history.history['val_binary_accuracy'])\n",
    "    print('\\nValidation accuracy improved: {:.2f}%'.format(best_accuracy*100))\n",
    "else:\n",
    "    print('\\nAdding class weights didn\\'t improve the accuracy')"
   ]
  },
  {
   "cell_type": "markdown",
   "metadata": {},
   "source": [
    "**Data augmentation**"
   ]
  },
  {
   "cell_type": "code",
   "execution_count": 198,
   "metadata": {},
   "outputs": [],
   "source": [
    "# Using Keras to generate artificial images (flipping and rotating)\n",
    "\n",
    "datagen = ImageDataGenerator(\n",
    "        rotation_range = 30,  # randomly rotate images in the range (degrees, 0 to 180)\n",
    "        zoom_range = 0.2, # Randomly zoom image \n",
    "        width_shift_range=0.1,  # randomly shift images horizontally (fraction of total width)\n",
    "        height_shift_range=0.1,  # randomly shift images vertically (fraction of total height)\n",
    "        horizontal_flip = True,  # randomly flip images\n",
    "        vertical_flip=False)  # randomly flip images\n",
    "\n",
    "datagen.fit(X_train)"
   ]
  },
  {
   "cell_type": "code",
   "execution_count": 199,
   "metadata": {},
   "outputs": [
    {
     "name": "stdout",
     "output_type": "stream",
     "text": [
      "Epoch 1/10\n",
      "147/147 [==============================] - 20s 135ms/step - loss: 0.8240 - binary_accuracy: 0.7329 - val_loss: 0.5573 - val_binary_accuracy: 0.7560\n",
      "Epoch 2/10\n",
      "147/147 [==============================] - 23s 155ms/step - loss: 0.5649 - binary_accuracy: 0.7598 - val_loss: 0.5478 - val_binary_accuracy: 0.7483\n",
      "Epoch 3/10\n",
      "147/147 [==============================] - 25s 170ms/step - loss: 0.5541 - binary_accuracy: 0.7573 - val_loss: 0.5432 - val_binary_accuracy: 0.7577\n",
      "Epoch 4/10\n",
      "147/147 [==============================] - 20s 134ms/step - loss: 0.5377 - binary_accuracy: 0.7564 - val_loss: 0.4715 - val_binary_accuracy: 0.8131\n",
      "Epoch 5/10\n",
      "147/147 [==============================] - 19s 130ms/step - loss: 0.4981 - binary_accuracy: 0.7869 - val_loss: 0.4135 - val_binary_accuracy: 0.8362\n",
      "Epoch 6/10\n",
      "147/147 [==============================] - 18s 124ms/step - loss: 0.4802 - binary_accuracy: 0.7997 - val_loss: 0.4664 - val_binary_accuracy: 0.7944\n",
      "Epoch 7/10\n",
      "147/147 [==============================] - 20s 137ms/step - loss: 0.4666 - binary_accuracy: 0.8008 - val_loss: 0.4051 - val_binary_accuracy: 0.8294\n",
      "Epoch 8/10\n",
      "147/147 [==============================] - 20s 134ms/step - loss: 0.4604 - binary_accuracy: 0.8053 - val_loss: 0.4331 - val_binary_accuracy: 0.8148\n",
      "Epoch 9/10\n",
      "147/147 [==============================] - 19s 127ms/step - loss: 0.4443 - binary_accuracy: 0.8108 - val_loss: 0.5022 - val_binary_accuracy: 0.7739\n",
      "Epoch 10/10\n",
      "147/147 [==============================] - 18s 125ms/step - loss: 0.4369 - binary_accuracy: 0.8070 - val_loss: 0.4017 - val_binary_accuracy: 0.8311\n",
      "\n",
      "Data augmentation didn't improve the accuracy\n"
     ]
    }
   ],
   "source": [
    "# Loading the model from the most recent optimization\n",
    "model = load_model('./data/best_model.h5')\n",
    "\n",
    "# Training\n",
    "history = model.fit(\n",
    "                    datagen.flow(X_train,y_train),\n",
    "                    batch_size=BATCH_SIZE,\n",
    "                    epochs=10,\n",
    "                    validation_data=datagen.flow(X_test, y_test),\n",
    "                    class_weight=class_weights, \n",
    "                    shuffle=True,\n",
    "                    verbose=1) \n",
    "\n",
    "# Verifying improvements\n",
    "if np.max(history.history['val_binary_accuracy']) > best_accuracy:\n",
    "    best_accuracy = np.max(history.history['val_binary_accuracy'])\n",
    "    print('\\nValidation accuracy improved: {:.2f}%'.format(best_accuracy*100))\n",
    "else:\n",
    "    print('\\nData augmentation didn\\'t improve the accuracy')"
   ]
  },
  {
   "cell_type": "markdown",
   "metadata": {},
   "source": [
    "## Training after fine tuning ##"
   ]
  },
  {
   "cell_type": "markdown",
   "metadata": {},
   "source": [
    "**Adding more regularization with Early Stop and Reduce Learning Rate On Plateau.**"
   ]
  },
  {
   "cell_type": "code",
   "execution_count": 215,
   "metadata": {},
   "outputs": [],
   "source": [
    "# Initializing callbacks\n",
    "path = f'./data/best_model.h5'\n",
    "\n",
    "# Saves the model in-between epochs when there is an improvement in val_loss\n",
    "checkpoint = ModelCheckpoint(path,\n",
    "                                monitor='val_loss',\n",
    "                                mode=\"min\",\n",
    "                                save_best_only = True,\n",
    "                                verbose=1)\n",
    "\n",
    "# Stops training the model when no improvement in val_loss is observed after set patience\n",
    "earlystop = EarlyStopping(monitor = 'val_loss', \n",
    "                              min_delta = 0, \n",
    "                              patience = 8,\n",
    "                              verbose = 1,\n",
    "                              restore_best_weights = True)\n",
    "\n",
    "# Monitors val_accuracy for a set 'patience', then the learning rate is reduced by a factor specified in the parameters\n",
    "reduce_lr = ReduceLROnPlateau(monitor='val_binary_accuracy', \n",
    "                              patience = 4,\n",
    "                              verbose=1,\n",
    "                              factor=0.3, \n",
    "                              min_lr=0.00001)\n",
    "\n",
    "# callbacks pipeline\n",
    "callbacks_pipeline = [checkpoint, earlystop, reduce_lr]"
   ]
  },
  {
   "cell_type": "code",
   "execution_count": 216,
   "metadata": {},
   "outputs": [
    {
     "name": "stdout",
     "output_type": "stream",
     "text": [
      "Epoch 1/15\n",
      "147/147 [==============================] - 16s 108ms/step - loss: 0.0445 - binary_accuracy: 0.9831 - val_loss: 0.1231 - val_binary_accuracy: 0.9684\n",
      "\n",
      "Epoch 00001: val_loss improved from inf to 0.12309, saving model to ./data/best_model.h5\n",
      "Epoch 2/15\n",
      "147/147 [==============================] - 18s 120ms/step - loss: 0.0437 - binary_accuracy: 0.9831 - val_loss: 0.1249 - val_binary_accuracy: 0.9667\n",
      "\n",
      "Epoch 00002: val_loss did not improve from 0.12309\n",
      "Epoch 3/15\n",
      "147/147 [==============================] - 19s 129ms/step - loss: 0.0396 - binary_accuracy: 0.9829 - val_loss: 0.1273 - val_binary_accuracy: 0.9659\n",
      "\n",
      "Epoch 00003: val_loss did not improve from 0.12309\n",
      "Epoch 4/15\n",
      "147/147 [==============================] - 19s 128ms/step - loss: 0.0398 - binary_accuracy: 0.9848 - val_loss: 0.1302 - val_binary_accuracy: 0.9667\n",
      "\n",
      "Epoch 00004: val_loss did not improve from 0.12309\n",
      "Epoch 5/15\n",
      "147/147 [==============================] - 17s 118ms/step - loss: 0.0374 - binary_accuracy: 0.9842 - val_loss: 0.1313 - val_binary_accuracy: 0.9659\n",
      "\n",
      "Epoch 00005: val_loss did not improve from 0.12309\n",
      "\n",
      "Epoch 00005: ReduceLROnPlateau reducing learning rate to 0.0003000000142492354.\n",
      "Epoch 6/15\n",
      "147/147 [==============================] - 16s 111ms/step - loss: 0.0364 - binary_accuracy: 0.9859 - val_loss: 0.1328 - val_binary_accuracy: 0.9659\n",
      "\n",
      "Epoch 00006: val_loss did not improve from 0.12309\n",
      "Epoch 7/15\n",
      "147/147 [==============================] - 16s 112ms/step - loss: 0.0393 - binary_accuracy: 0.9853 - val_loss: 0.1325 - val_binary_accuracy: 0.9659\n",
      "\n",
      "Epoch 00007: val_loss did not improve from 0.12309\n",
      "Epoch 8/15\n",
      "147/147 [==============================] - 17s 114ms/step - loss: 0.0373 - binary_accuracy: 0.9855 - val_loss: 0.1340 - val_binary_accuracy: 0.9659\n",
      "\n",
      "Epoch 00008: val_loss did not improve from 0.12309\n",
      "Epoch 9/15\n",
      "147/147 [==============================] - 16s 112ms/step - loss: 0.0342 - binary_accuracy: 0.9876 - val_loss: 0.1341 - val_binary_accuracy: 0.9676\n",
      "\n",
      "Epoch 00009: val_loss did not improve from 0.12309\n",
      "Restoring model weights from the end of the best epoch.\n",
      "\n",
      "Epoch 00009: ReduceLROnPlateau reducing learning rate to 9.000000427477062e-05.\n",
      "Epoch 00009: early stopping\n",
      "\n",
      "Validation accuracy improved: 96.84%\n"
     ]
    }
   ],
   "source": [
    "# Modelling and training using the chosen optimizer, activation function, callbacks, no weights and no data augmentation.\n",
    "\n",
    "# Loading the model from the most recent optimization\n",
    "model = load_model('./data/best_model.h5')\n",
    "\n",
    "# Training\n",
    "history = model.fit(\n",
    "                X_train, y_train,\n",
    "                batch_size=BATCH_SIZE,\n",
    "                epochs=15,\n",
    "                validation_data=(X_test, y_test),\n",
    "                callbacks=callbacks_pipeline,\n",
    "                shuffle=True,\n",
    "                verbose=1)\n",
    "\n",
    "# Verifying improvements\n",
    "if np.max(history.history['val_binary_accuracy']) > best_accuracy:\n",
    "    best_accuracy = np.max(history.history['val_binary_accuracy'])\n",
    "    print('\\nValidation accuracy improved: {:.2f}%'.format(best_accuracy*100))\n",
    "else:\n",
    "    print('\\nMore regularization didn\\'t improve the accuracy')"
   ]
  },
  {
   "cell_type": "markdown",
   "metadata": {},
   "source": [
    "**Evaluating against the test set**"
   ]
  },
  {
   "cell_type": "code",
   "execution_count": 218,
   "metadata": {},
   "outputs": [
    {
     "name": "stdout",
     "output_type": "stream",
     "text": [
      "Accuracy score: 96.84%\n"
     ]
    }
   ],
   "source": [
    "print('Accuracy score: {:.2f}%'.format(accuracy_score(y_test, model.predict_classes(X_test))*100))"
   ]
  },
  {
   "cell_type": "markdown",
   "metadata": {},
   "source": [
    "**We reached an accuracy score which exceeds the Logistics Regression**"
   ]
  },
  {
   "cell_type": "code",
   "execution_count": 203,
   "metadata": {},
   "outputs": [],
   "source": [
    "def plot_validation_curves(result, metric):\n",
    "    '''\n",
    "    This function plots the validation curves.\n",
    "    '''\n",
    "    result = pd.DataFrame(result)\n",
    "    fig, axs = plt.subplots(1,2)\n",
    "    result[['loss','val_loss']].plot(figsize=(10, 3),ax=axs[0])\n",
    "    axs[0].set_title('Train vs validation Loss')\n",
    "    axs[0].set_xlabel('Epochs')\n",
    "    axs[0].set_ylabel('Loss')\n",
    "    result[[metric,'val_' + metric]].plot(figsize=(10, 3),ax=axs[1])\n",
    "    axs[1].set_title('Train vs validation Accuracy')\n",
    "    axs[1].set_xlabel('Epochs')\n",
    "    axs[1].set_ylabel('Accuracy')\n",
    "    \n",
    "    pass"
   ]
  },
  {
   "cell_type": "code",
   "execution_count": 219,
   "metadata": {},
   "outputs": [
    {
     "data": {
      "image/png": "[encoded data removed]",
      "text/plain": [
       "<Figure size 720x216 with 2 Axes>"
      ]
     },
     "metadata": {
      "needs_background": "light"
     },
     "output_type": "display_data"
    }
   ],
   "source": [
    "# Plotting the validation curves\n",
    "plot_validation_curves(history.history, 'binary_accuracy')"
   ]
  },
  {
   "cell_type": "code",
   "execution_count": 70,
   "metadata": {},
   "outputs": [
    {
     "data": {
      "image/png": "[encoded data removed]",
      "text/plain": [
       "<Figure size 432x288 with 2 Axes>"
      ]
     },
     "metadata": {
      "needs_background": "light"
     },
     "output_type": "display_data"
    }
   ],
   "source": [
    "predictions = model.predict(X_test)\n",
    "\n",
    "# Compute confusion matrix\n",
    "cnf_matrix = confusion_matrix(y_test, np.round(predictions), labels=[1,0])\n",
    "# Plot non-normalized confusion matrix\n",
    "plt.figure()\n",
    "plot_confusion_matrix(cnf_matrix, classes=['pneumonia','normal'],normalize= False,  title='Confusion matrix')"
   ]
  },
  {
   "cell_type": "code",
   "execution_count": 78,
   "metadata": {},
   "outputs": [
    {
     "name": "stdout",
     "output_type": "stream",
     "text": [
      "This image is 0.08% pneumonia and 99.92% normal.\n"
     ]
    },
    {
     "data": {
      "image/png": "[encoded data removed]",
      "text/plain": [
       "<Figure size 432x288 with 1 Axes>"
      ]
     },
     "metadata": {
      "needs_background": "light"
     },
     "output_type": "display_data"
    }
   ],
   "source": [
    "# Showing a randomly selected scan along with the probability that it's a pneumonia vs normal.\n",
    "\n",
    "random_num = np.random.randint(0,len(X_test))\n",
    "prediction = model.predict_proba(X_test[random_num:random_num+1,:,:,:])\n",
    "score = prediction[0]\n",
    "\n",
    "print('This image is {:.2f}% pneumonia and {:.2f}% normal.'.format(100 * score[0],100*(1-score[0])))\n",
    "# plt.figure(figsize=(6,6))\n",
    "plt.imshow(X_test[random_num,:,:,:])\n",
    "plt.grid(False)\n",
    "plt.axis('off')\n",
    "plt.show()"
   ]
  },
  {
   "cell_type": "markdown",
   "metadata": {},
   "source": [
    "## Transfer learning ##"
   ]
  },
  {
   "cell_type": "code",
   "execution_count": 92,
   "metadata": {},
   "outputs": [],
   "source": [
    "# Setting the path for the dataset with Covid 19 scans\n",
    "PATH = \"./data/covid19/\""
   ]
  },
  {
   "cell_type": "code",
   "execution_count": 93,
   "metadata": {},
   "outputs": [],
   "source": [
    "# Getting lists\n",
    "n, p, ln, lp = get_path(PATH, '.png')\n",
    "\n",
    "# Getting images in numeric format\n",
    "xn, xp = get_images(n, p, ln, lp)"
   ]
  },
  {
   "cell_type": "code",
   "execution_count": 94,
   "metadata": {},
   "outputs": [
    {
     "name": "stdout",
     "output_type": "stream",
     "text": [
      "(5856, 50, 50, 3) (5856, 1)\n"
     ]
    }
   ],
   "source": [
    "# Merging the features and the class labels of the scans with a without pneumonia\n",
    "\n",
    "X_covid = np.vstack((xp, xn))\n",
    "Y_covid = np.vstack((np.reshape(np.array(lp),(-1,1)), np.reshape(np.array(ln),(-1,1))))\n",
    "print(X_covid.shape, Y_covid.shape)"
   ]
  },
  {
   "cell_type": "code",
   "execution_count": 95,
   "metadata": {},
   "outputs": [],
   "source": [
    "# Normalizing and casting as float\n",
    "\n",
    "X_covid = X_covid/255\n",
    "\n",
    "X_covid = X_covid.astype('float32')\n",
    "Y_covid = Y_covid.astype('float32')"
   ]
  },
  {
   "cell_type": "markdown",
   "metadata": {},
   "source": [
    "### Modeling a CNN with Feature Layers and Classification Layers ##"
   ]
  },
  {
   "cell_type": "code",
   "execution_count": 102,
   "metadata": {},
   "outputs": [
    {
     "name": "stdout",
     "output_type": "stream",
     "text": [
      "Model: \"sequential_5\"\n",
      "_________________________________________________________________\n",
      "Layer (type)                 Output Shape              Param #   \n",
      "=================================================================\n",
      "conv2d_20 (Conv2D)           (None, 25, 25, 32)        2432      \n",
      "_________________________________________________________________\n",
      "activation_30 (Activation)   (None, 25, 25, 32)        0         \n",
      "_________________________________________________________________\n",
      "max_pooling2d_10 (MaxPooling (None, 13, 13, 32)        0         \n",
      "_________________________________________________________________\n",
      "conv2d_21 (Conv2D)           (None, 7, 7, 64)          51264     \n",
      "_________________________________________________________________\n",
      "activation_31 (Activation)   (None, 7, 7, 64)          0         \n",
      "_________________________________________________________________\n",
      "dropout_15 (Dropout)         (None, 7, 7, 64)          0         \n",
      "_________________________________________________________________\n",
      "conv2d_22 (Conv2D)           (None, 4, 4, 128)         204928    \n",
      "_________________________________________________________________\n",
      "activation_32 (Activation)   (None, 4, 4, 128)         0         \n",
      "_________________________________________________________________\n",
      "max_pooling2d_11 (MaxPooling (None, 2, 2, 128)         0         \n",
      "_________________________________________________________________\n",
      "conv2d_23 (Conv2D)           (None, 1, 1, 256)         819456    \n",
      "_________________________________________________________________\n",
      "activation_33 (Activation)   (None, 1, 1, 256)         0         \n",
      "_________________________________________________________________\n",
      "dropout_16 (Dropout)         (None, 1, 1, 256)         0         \n",
      "_________________________________________________________________\n",
      "flatten_5 (Flatten)          (None, 256)               0         \n",
      "_________________________________________________________________\n",
      "dense_10 (Dense)             (None, 512)               131584    \n",
      "_________________________________________________________________\n",
      "activation_34 (Activation)   (None, 512)               0         \n",
      "_________________________________________________________________\n",
      "dropout_17 (Dropout)         (None, 512)               0         \n",
      "_________________________________________________________________\n",
      "dense_11 (Dense)             (None, 1)                 513       \n",
      "_________________________________________________________________\n",
      "activation_35 (Activation)   (None, 1)                 0         \n",
      "=================================================================\n",
      "Total params: 1,210,177\n",
      "Trainable params: 1,210,177\n",
      "Non-trainable params: 0\n",
      "_________________________________________________________________\n"
     ]
    }
   ],
   "source": [
    "# Using the same design with conv 2D as before (same number of trainable params)\n",
    "\n",
    "# Feature layers\n",
    "feature_layers = [\n",
    "Conv2D(32, 5, strides = 2, padding='same', input_shape=INPUT_SHAPE), \n",
    "Activation('relu'),\n",
    "MaxPooling2D(pool_size=(2, 2), padding='same'),\n",
    "Conv2D(64, 5, strides = 2, padding='same'),\n",
    "Activation('relu'),\n",
    "Dropout(0.1),\n",
    "Conv2D(128, 5, strides = 2, padding='same'), ## (3, 3)\n",
    "Activation('relu'),\n",
    "MaxPooling2D(pool_size=(2, 2), padding='same'),\n",
    "Conv2D(256, 5, strides = 2, padding='same'),\n",
    "Activation('relu'),\n",
    "Dropout(0.25) # fraction of the input units to drop\n",
    "]\n",
    "\n",
    "# Classification layers\n",
    "classification_layers = [\n",
    "Flatten(),\n",
    "Dense(512),\n",
    "Activation('relu'),\n",
    "Dropout(0.5),\n",
    "Dense(1),\n",
    "Activation('sigmoid')\n",
    "]\n",
    "\n",
    "model_1 = Sequential(feature_layers + classification_layers)\n",
    "\n",
    "model_1.summary()"
   ]
  },
  {
   "cell_type": "markdown",
   "metadata": {},
   "source": [
    "**Training the CNN with the regular dataset**"
   ]
  },
  {
   "cell_type": "code",
   "execution_count": 103,
   "metadata": {},
   "outputs": [
    {
     "name": "stdout",
     "output_type": "stream",
     "text": [
      "Epoch 1/10\n",
      "147/147 [==============================] - 18s 115ms/step - loss: 0.6195 - binary_accuracy: 0.6910 - val_loss: 0.1880 - val_binary_accuracy: 0.9292\n",
      "Epoch 2/10\n",
      "147/147 [==============================] - 17s 113ms/step - loss: 0.2383 - binary_accuracy: 0.9134 - val_loss: 0.2967 - val_binary_accuracy: 0.8916\n",
      "Epoch 3/10\n",
      "147/147 [==============================] - 16s 110ms/step - loss: 0.1890 - binary_accuracy: 0.9245 - val_loss: 0.2094 - val_binary_accuracy: 0.9206\n",
      "Epoch 4/10\n",
      "147/147 [==============================] - 16s 109ms/step - loss: 0.1750 - binary_accuracy: 0.9365 - val_loss: 0.0262 - val_binary_accuracy: 0.9932\n",
      "Epoch 5/10\n",
      "147/147 [==============================] - 16s 111ms/step - loss: 0.1379 - binary_accuracy: 0.9478 - val_loss: 0.0513 - val_binary_accuracy: 0.9932\n",
      "Epoch 6/10\n",
      "147/147 [==============================] - 18s 121ms/step - loss: 0.1569 - binary_accuracy: 0.9454 - val_loss: 0.2904 - val_binary_accuracy: 0.9172\n",
      "Epoch 7/10\n",
      "147/147 [==============================] - 19s 132ms/step - loss: 0.1483 - binary_accuracy: 0.9472 - val_loss: 0.1536 - val_binary_accuracy: 0.9471\n",
      "Epoch 8/10\n",
      "147/147 [==============================] - 19s 129ms/step - loss: 0.1184 - binary_accuracy: 0.9563 - val_loss: 0.0961 - val_binary_accuracy: 0.9735\n",
      "Epoch 9/10\n",
      "147/147 [==============================] - 18s 123ms/step - loss: 0.1060 - binary_accuracy: 0.9610 - val_loss: 0.1668 - val_binary_accuracy: 0.9437\n",
      "Epoch 10/10\n",
      "147/147 [==============================] - 16s 112ms/step - loss: 0.1005 - binary_accuracy: 0.9702 - val_loss: 0.5950 - val_binary_accuracy: 0.8601\n",
      "\n",
      "Run in 173.40 seconds.\n"
     ]
    }
   ],
   "source": [
    "# start time\n",
    "start_time = time.time()\n",
    "\n",
    "# Let's train the model using RMSprop\n",
    "model_1.compile(loss='binary_crossentropy', \n",
    "              optimizer=opt,\n",
    "              metrics=['BinaryAccuracy']) \n",
    "\n",
    "# Training\n",
    "history = model_1.fit(X, Y,\n",
    "              batch_size=BATCH_SIZE,\n",
    "              epochs=10,\n",
    "              validation_split=0.2, # Using validation split to obtain the test set\n",
    "              shuffle=True)\n",
    "\n",
    "print('\\nRun in {:.2f} seconds.'.format(time.time() - start_time))"
   ]
  },
  {
   "cell_type": "code",
   "execution_count": 107,
   "metadata": {},
   "outputs": [
    {
     "name": "stdout",
     "output_type": "stream",
     "text": [
      "183/183 [==============================] - 3s 14ms/step - loss: 0.3473 - binary_accuracy: 0.9078\n",
      "\n",
      "Accuracy metric: 90.78%\n"
     ]
    }
   ],
   "source": [
    "print('\\nAccuracy metric: {:.2f}%'.format(np.max(model_1.evaluate(X, Y, batch_size=BATCH_SIZE))*100))"
   ]
  },
  {
   "cell_type": "code",
   "execution_count": 105,
   "metadata": {},
   "outputs": [
    {
     "data": {
      "image/png": "[encoded data removed]",
      "text/plain": [
       "<Figure size 720x216 with 2 Axes>"
      ]
     },
     "metadata": {
      "needs_background": "light"
     },
     "output_type": "display_data"
    }
   ],
   "source": [
    "# Plotting the validation curves\n",
    "plot_validation_curves(history.history, 'binary_accuracy')"
   ]
  },
  {
   "cell_type": "code",
   "execution_count": 108,
   "metadata": {},
   "outputs": [
    {
     "name": "stdout",
     "output_type": "stream",
     "text": [
      "Model: \"sequential_5\"\n",
      "_________________________________________________________________\n",
      "Layer (type)                 Output Shape              Param #   \n",
      "=================================================================\n",
      "conv2d_20 (Conv2D)           (None, 25, 25, 32)        2432      \n",
      "_________________________________________________________________\n",
      "activation_30 (Activation)   (None, 25, 25, 32)        0         \n",
      "_________________________________________________________________\n",
      "max_pooling2d_10 (MaxPooling (None, 13, 13, 32)        0         \n",
      "_________________________________________________________________\n",
      "conv2d_21 (Conv2D)           (None, 7, 7, 64)          51264     \n",
      "_________________________________________________________________\n",
      "activation_31 (Activation)   (None, 7, 7, 64)          0         \n",
      "_________________________________________________________________\n",
      "dropout_15 (Dropout)         (None, 7, 7, 64)          0         \n",
      "_________________________________________________________________\n",
      "conv2d_22 (Conv2D)           (None, 4, 4, 128)         204928    \n",
      "_________________________________________________________________\n",
      "activation_32 (Activation)   (None, 4, 4, 128)         0         \n",
      "_________________________________________________________________\n",
      "max_pooling2d_11 (MaxPooling (None, 2, 2, 128)         0         \n",
      "_________________________________________________________________\n",
      "conv2d_23 (Conv2D)           (None, 1, 1, 256)         819456    \n",
      "_________________________________________________________________\n",
      "activation_33 (Activation)   (None, 1, 1, 256)         0         \n",
      "_________________________________________________________________\n",
      "dropout_16 (Dropout)         (None, 1, 1, 256)         0         \n",
      "_________________________________________________________________\n",
      "flatten_5 (Flatten)          (None, 256)               0         \n",
      "_________________________________________________________________\n",
      "dense_10 (Dense)             (None, 512)               131584    \n",
      "_________________________________________________________________\n",
      "activation_34 (Activation)   (None, 512)               0         \n",
      "_________________________________________________________________\n",
      "dropout_17 (Dropout)         (None, 512)               0         \n",
      "_________________________________________________________________\n",
      "dense_11 (Dense)             (None, 1)                 513       \n",
      "_________________________________________________________________\n",
      "activation_35 (Activation)   (None, 1)                 0         \n",
      "=================================================================\n",
      "Total params: 1,210,177\n",
      "Trainable params: 132,097\n",
      "Non-trainable params: 1,078,080\n",
      "_________________________________________________________________\n"
     ]
    }
   ],
   "source": [
    "# Setting the Feature Layers as non trainable\n",
    "\n",
    "for l in feature_layers:\n",
    "    l.trainable = False\n",
    "\n",
    "# Note 1,078,080 non trainable params\n",
    "model_1.summary()"
   ]
  },
  {
   "cell_type": "markdown",
   "metadata": {},
   "source": [
    "**Training only the classification layers with the new Covid 19 data**"
   ]
  },
  {
   "cell_type": "code",
   "execution_count": 109,
   "metadata": {},
   "outputs": [
    {
     "name": "stdout",
     "output_type": "stream",
     "text": [
      "Epoch 1/10\n",
      "147/147 [==============================] - 17s 116ms/step - loss: 0.4075 - binary_accuracy: 0.8354 - val_loss: 0.3583 - val_binary_accuracy: 0.8148\n",
      "Epoch 2/10\n",
      "147/147 [==============================] - 17s 115ms/step - loss: 0.3145 - binary_accuracy: 0.8772 - val_loss: 0.5734 - val_binary_accuracy: 0.6928\n",
      "Epoch 3/10\n",
      "147/147 [==============================] - 17s 119ms/step - loss: 0.2499 - binary_accuracy: 0.8945 - val_loss: 0.4636 - val_binary_accuracy: 0.8200\n",
      "Epoch 4/10\n",
      "147/147 [==============================] - 18s 124ms/step - loss: 0.2307 - binary_accuracy: 0.9155 - val_loss: 0.5118 - val_binary_accuracy: 0.8200\n",
      "Epoch 5/10\n",
      "147/147 [==============================] - 19s 129ms/step - loss: 0.2063 - binary_accuracy: 0.9204 - val_loss: 0.4337 - val_binary_accuracy: 0.8276\n",
      "Epoch 6/10\n",
      "147/147 [==============================] - 20s 136ms/step - loss: 0.2045 - binary_accuracy: 0.9227 - val_loss: 0.2555 - val_binary_accuracy: 0.8908\n",
      "Epoch 7/10\n",
      "147/147 [==============================] - 21s 143ms/step - loss: 0.1801 - binary_accuracy: 0.9302 - val_loss: 0.2834 - val_binary_accuracy: 0.9036\n",
      "Epoch 8/10\n",
      "147/147 [==============================] - 20s 138ms/step - loss: 0.1649 - binary_accuracy: 0.9400 - val_loss: 0.4961 - val_binary_accuracy: 0.8558\n",
      "Epoch 9/10\n",
      "147/147 [==============================] - 18s 123ms/step - loss: 0.1662 - binary_accuracy: 0.9374 - val_loss: 0.3951 - val_binary_accuracy: 0.8720\n",
      "Epoch 10/10\n",
      "147/147 [==============================] - 17s 115ms/step - loss: 0.1458 - binary_accuracy: 0.9477 - val_loss: 0.5730 - val_binary_accuracy: 0.8319\n",
      "\n",
      "Run in 184.97 seconds.\n"
     ]
    }
   ],
   "source": [
    "# start time\n",
    "start_time = time.time()\n",
    "\n",
    "# Training \n",
    "history = model_1.fit(X_covid, Y_covid,\n",
    "              batch_size=BATCH_SIZE,\n",
    "              epochs=10,\n",
    "              validation_split=0.2,\n",
    "              shuffle=True)\n",
    "\n",
    "print('\\nRun in {:.2f} seconds.'.format(time.time() - start_time))"
   ]
  },
  {
   "cell_type": "code",
   "execution_count": 110,
   "metadata": {},
   "outputs": [
    {
     "name": "stdout",
     "output_type": "stream",
     "text": [
      "183/183 [==============================] - 3s 14ms/step - loss: 0.2073 - binary_accuracy: 0.9250\n",
      "\n",
      "Accuracy metric: 92.50%\n"
     ]
    }
   ],
   "source": [
    "print('\\nAccuracy metric: {:.2f}%'.format(np.max(model_1.evaluate(X_covid, Y_covid, batch_size=BATCH_SIZE))*100))"
   ]
  },
  {
   "cell_type": "code",
   "execution_count": 111,
   "metadata": {},
   "outputs": [
    {
     "data": {
      "image/png": "[encoded data removed]",
      "text/plain": [
       "<Figure size 720x216 with 2 Axes>"
      ]
     },
     "metadata": {
      "needs_background": "light"
     },
     "output_type": "display_data"
    }
   ],
   "source": [
    "# Plotting the validation curves\n",
    "plot_validation_curves(history.history, 'binary_accuracy')"
   ]
  },
  {
   "cell_type": "markdown",
   "metadata": {},
   "source": [
    "## Autoencoders ##"
   ]
  },
  {
   "cell_type": "markdown",
   "metadata": {},
   "source": [
    "### Scikit-learn PCA ###"
   ]
  },
  {
   "cell_type": "markdown",
   "metadata": {},
   "source": [
    "**Verify exlained variance**"
   ]
  },
  {
   "cell_type": "code",
   "execution_count": 112,
   "metadata": {},
   "outputs": [
    {
     "name": "stdout",
     "output_type": "stream",
     "text": [
      "Variance explained with 200 components: 0.91\n"
     ]
    }
   ],
   "source": [
    "# Use scikit-learn PCA\n",
    "\n",
    "from sklearn.decomposition import PCA\n",
    "\n",
    "pca = PCA(n_components=200)\n",
    "\n",
    "fit_pca = pca.fit(X_train_LR) # Re-use the flat data from Logistic Regression\n",
    "\n",
    "print(\"Variance explained with {0} components:\".format(200), \n",
    "      round(sum(fit_pca.explained_variance_ratio_), 2))"
   ]
  },
  {
   "cell_type": "code",
   "execution_count": 113,
   "metadata": {},
   "outputs": [
    {
     "data": {
      "image/png": "[encoded data removed]",
      "text/plain": [
       "<Figure size 432x288 with 1 Axes>"
      ]
     },
     "metadata": {
      "needs_background": "light"
     },
     "output_type": "display_data"
    }
   ],
   "source": [
    "plt.plot(np.cumsum(fit_pca.explained_variance_ratio_))\n",
    "plt.title(\"Proportion of PCA variance\\nexplained by number of components\")\n",
    "plt.xlabel(\"Number of components\")\n",
    "plt.ylabel(\"Proportion of variance explained\");"
   ]
  },
  {
   "cell_type": "markdown",
   "metadata": {},
   "source": [
    "**Measure reconstruction error metric**"
   ]
  },
  {
   "cell_type": "code",
   "execution_count": 114,
   "metadata": {},
   "outputs": [],
   "source": [
    "# Encoding and reverse decoding\n",
    "\n",
    "X_test_pca = pca.transform(X_test_LR)\n",
    "X_test_reconstructed = pca.inverse_transform(X_test_pca)"
   ]
  },
  {
   "cell_type": "code",
   "execution_count": 115,
   "metadata": {},
   "outputs": [],
   "source": [
    "def mse_reconstruction(true, reconstructed):\n",
    "    '''\n",
    "    This function calculates the MSE\n",
    "    '''\n",
    "    return np.sum(np.power(true - reconstructed, 2) / true.shape[1])"
   ]
  },
  {
   "cell_type": "code",
   "execution_count": 117,
   "metadata": {},
   "outputs": [
    {
     "name": "stdout",
     "output_type": "stream",
     "text": [
      "mse of the PCA reconstructed data: 2.90\n"
     ]
    }
   ],
   "source": [
    "print('mse of the PCA reconstructed data: {:.2f}'.format(mse_reconstruction(X_test_LR, X_test_reconstructed)))"
   ]
  },
  {
   "cell_type": "code",
   "execution_count": 120,
   "metadata": {},
   "outputs": [
    {
     "data": {
      "image/png": "[encoded data removed]",
      "text/plain": [
       "<Figure size 432x288 with 1 Axes>"
      ]
     },
     "metadata": {
      "needs_background": "light"
     },
     "output_type": "display_data"
    }
   ],
   "source": [
    "# Show a sample scan from the reconstructed data\n",
    "\n",
    "X_test_reconstructed_reshaped = np.reshape(X_test_reconstructed,tuple([-1]+list(INPUT_SHAPE)))\n",
    "\n",
    "random_num = np.random.randint(0,len(X_test_reconstructed_reshaped))\n",
    "\n",
    "# plt.figure(figsize=(12,6))\n",
    "plt.imshow(X_test_reconstructed_reshaped[random_num,:,:,:])\n",
    "plt.grid(False)\n",
    "plt.axis('off')\n",
    "plt.show()"
   ]
  },
  {
   "cell_type": "markdown",
   "metadata": {},
   "source": [
    "**Evaluate a CNN trained using the reconstructed data**"
   ]
  },
  {
   "cell_type": "code",
   "execution_count": 165,
   "metadata": {},
   "outputs": [
    {
     "name": "stdout",
     "output_type": "stream",
     "text": [
      "Model: \"sequential_18\"\n",
      "_________________________________________________________________\n",
      "Layer (type)                 Output Shape              Param #   \n",
      "=================================================================\n",
      "conv2d_72 (Conv2D)           (None, 25, 25, 32)        2432      \n",
      "_________________________________________________________________\n",
      "activation_108 (Activation)  (None, 25, 25, 32)        0         \n",
      "_________________________________________________________________\n",
      "max_pooling2d_36 (MaxPooling (None, 13, 13, 32)        0         \n",
      "_________________________________________________________________\n",
      "conv2d_73 (Conv2D)           (None, 7, 7, 64)          51264     \n",
      "_________________________________________________________________\n",
      "activation_109 (Activation)  (None, 7, 7, 64)          0         \n",
      "_________________________________________________________________\n",
      "dropout_54 (Dropout)         (None, 7, 7, 64)          0         \n",
      "_________________________________________________________________\n",
      "conv2d_74 (Conv2D)           (None, 4, 4, 128)         204928    \n",
      "_________________________________________________________________\n",
      "activation_110 (Activation)  (None, 4, 4, 128)         0         \n",
      "_________________________________________________________________\n",
      "max_pooling2d_37 (MaxPooling (None, 2, 2, 128)         0         \n",
      "_________________________________________________________________\n",
      "conv2d_75 (Conv2D)           (None, 1, 1, 256)         819456    \n",
      "_________________________________________________________________\n",
      "activation_111 (Activation)  (None, 1, 1, 256)         0         \n",
      "_________________________________________________________________\n",
      "dropout_55 (Dropout)         (None, 1, 1, 256)         0         \n",
      "_________________________________________________________________\n",
      "flatten_18 (Flatten)         (None, 256)               0         \n",
      "_________________________________________________________________\n",
      "dense_50 (Dense)             (None, 512)               131584    \n",
      "_________________________________________________________________\n",
      "activation_112 (Activation)  (None, 512)               0         \n",
      "_________________________________________________________________\n",
      "dropout_56 (Dropout)         (None, 512)               0         \n",
      "_________________________________________________________________\n",
      "dense_51 (Dense)             (None, 1)                 513       \n",
      "_________________________________________________________________\n",
      "activation_113 (Activation)  (None, 1)                 0         \n",
      "=================================================================\n",
      "Total params: 1,210,177\n",
      "Trainable params: 1,210,177\n",
      "Non-trainable params: 0\n",
      "_________________________________________________________________\n",
      "None\n",
      "Epoch 1/10\n",
      "30/30 [==============================] - 5s 131ms/step - loss: 0.6897 - binary_accuracy: 0.6462 - val_loss: 0.4634 - val_binary_accuracy: 0.7787\n",
      "Epoch 2/10\n",
      "30/30 [==============================] - 4s 122ms/step - loss: 0.5053 - binary_accuracy: 0.7524 - val_loss: 0.4874 - val_binary_accuracy: 0.7830\n",
      "Epoch 3/10\n",
      "30/30 [==============================] - 4s 123ms/step - loss: 0.4722 - binary_accuracy: 0.8050 - val_loss: 0.3531 - val_binary_accuracy: 0.8170\n",
      "Epoch 4/10\n",
      "30/30 [==============================] - 3s 113ms/step - loss: 0.2766 - binary_accuracy: 0.8814 - val_loss: 0.4547 - val_binary_accuracy: 0.7830\n",
      "Epoch 5/10\n",
      "30/30 [==============================] - 3s 113ms/step - loss: 0.2180 - binary_accuracy: 0.9176 - val_loss: 0.2205 - val_binary_accuracy: 0.8979\n",
      "Epoch 6/10\n",
      "30/30 [==============================] - 3s 115ms/step - loss: 0.1560 - binary_accuracy: 0.9393 - val_loss: 0.5579 - val_binary_accuracy: 0.8085\n",
      "Epoch 7/10\n",
      "30/30 [==============================] - 3s 116ms/step - loss: 0.2074 - binary_accuracy: 0.9302 - val_loss: 0.3720 - val_binary_accuracy: 0.8723\n",
      "Epoch 8/10\n",
      "30/30 [==============================] - 4s 121ms/step - loss: 0.1605 - binary_accuracy: 0.9399 - val_loss: 0.2392 - val_binary_accuracy: 0.9106\n",
      "Epoch 9/10\n",
      "30/30 [==============================] - 4s 122ms/step - loss: 0.1406 - binary_accuracy: 0.9521 - val_loss: 0.2400 - val_binary_accuracy: 0.9021\n",
      "Epoch 10/10\n",
      "30/30 [==============================] - 4s 123ms/step - loss: 0.1276 - binary_accuracy: 0.9703 - val_loss: 0.2224 - val_binary_accuracy: 0.8979\n",
      "\n",
      "Accuracy score: 95.82%\n",
      "\n",
      "Run in 37.29 seconds.\n"
     ]
    }
   ],
   "source": [
    "# Train a CNN using the reconstructed data\n",
    "\n",
    "# start time\n",
    "start_time = time.time()\n",
    "\n",
    "# initiate RMSprop optimizer\n",
    "opt = RMSprop(lr=0.001)\n",
    "\n",
    "# Modeling\n",
    "model_pca = modeling(input_shape_img=INPUT_SHAPE)\n",
    "\n",
    "model_pca.compile(loss='binary_crossentropy', \n",
    "              optimizer=opt,\n",
    "              metrics=['BinaryAccuracy']) \n",
    "\n",
    "print(model_pca.summary())\n",
    "\n",
    "# Training\n",
    "history_pca = model_pca.fit(X_test_reconstructed_reshaped, y_test,\n",
    "              batch_size=BATCH_SIZE,\n",
    "              epochs=10,\n",
    "              validation_split=0.2, # Train-test split\n",
    "              shuffle=True)\n",
    "\n",
    "print('\\nAccuracy score: {:.2f}%'.format(accuracy_score(y_test, model_pca.predict_classes(X_test_reconstructed_reshaped))*100))\n",
    "\n",
    "print('\\nRun in {:.2f} seconds.'.format(time.time() - start_time))"
   ]
  },
  {
   "cell_type": "code",
   "execution_count": 205,
   "metadata": {},
   "outputs": [
    {
     "data": {
      "image/png": "[encoded data removed]",
      "text/plain": [
       "<Figure size 720x216 with 2 Axes>"
      ]
     },
     "metadata": {
      "needs_background": "light"
     },
     "output_type": "display_data"
    }
   ],
   "source": [
    "# Plotting the validation curves\n",
    "plot_validation_curves(history_pca.history, 'binary_accuracy')"
   ]
  },
  {
   "cell_type": "markdown",
   "metadata": {},
   "source": [
    "### Keras autoencoder model ###"
   ]
  },
  {
   "cell_type": "markdown",
   "metadata": {},
   "source": [
    "**Encoder and decoder**"
   ]
  },
  {
   "cell_type": "code",
   "execution_count": 153,
   "metadata": {},
   "outputs": [
    {
     "name": "stdout",
     "output_type": "stream",
     "text": [
      "Model: \"full_ae\"\n",
      "_________________________________________________________________\n",
      "Layer (type)                 Output Shape              Param #   \n",
      "=================================================================\n",
      "input_6 (InputLayer)         [(None, 7500)]            0         \n",
      "_________________________________________________________________\n",
      "encoder (Functional)         (None, 128)               960128    \n",
      "_________________________________________________________________\n",
      "decoder (Functional)         (None, 7500)              967500    \n",
      "=================================================================\n",
      "Total params: 1,927,628\n",
      "Trainable params: 1,927,628\n",
      "Non-trainable params: 0\n",
      "_________________________________________________________________\n"
     ]
    }
   ],
   "source": [
    "ENCODING_DIM = 128\n",
    "\n",
    "# Encoder model\n",
    "inputs = Input(shape=(7500,)) \n",
    "encoded = Dense(ENCODING_DIM, activation=\"sigmoid\")(inputs)\n",
    "encoder_model = Model(inputs, encoded, name='encoder')\n",
    "\n",
    "# Decoder model\n",
    "encoded_inputs = Input(shape=(ENCODING_DIM,), name='encoding')\n",
    "reconstruction = Dense(7500, activation=\"sigmoid\")(encoded_inputs)\n",
    "decoder_model = Model(encoded_inputs, reconstruction, name='decoder')\n",
    "\n",
    "# Defining the full model as the combination of the two\n",
    "outputs = decoder_model(encoder_model(inputs))\n",
    "full_model_1 = Model(inputs, outputs, name='full_ae')\n",
    "\n",
    "full_model_1.compile(optimizer='rmsprop',\n",
    "                 loss='binary_crossentropy',\n",
    "                 metrics=['accuracy'])\n",
    "\n",
    "full_model_1.summary()"
   ]
  },
  {
   "cell_type": "code",
   "execution_count": 154,
   "metadata": {},
   "outputs": [
    {
     "name": "stdout",
     "output_type": "stream",
     "text": [
      "Epoch 1/5\n",
      "147/147 [==============================] - 5s 34ms/step - loss: 0.6352 - accuracy: 6.2492e-04\n",
      "Epoch 2/5\n",
      "147/147 [==============================] - 5s 34ms/step - loss: 0.6077 - accuracy: 5.8751e-04\n",
      "Epoch 3/5\n",
      "147/147 [==============================] - 5s 35ms/step - loss: 0.6022 - accuracy: 0.0018\n",
      "Epoch 4/5\n",
      "147/147 [==============================] - 5s 34ms/step - loss: 0.5966 - accuracy: 5.1057e-04\n",
      "Epoch 5/5\n",
      "147/147 [==============================] - 5s 34ms/step - loss: 0.5931 - accuracy: 0.0015\n"
     ]
    }
   ],
   "source": [
    "history = full_model_1.fit(X_train_LR, X_train_LR, shuffle=True, epochs=5, batch_size=32)"
   ]
  },
  {
   "cell_type": "code",
   "execution_count": 155,
   "metadata": {},
   "outputs": [
    {
     "name": "stdout",
     "output_type": "stream",
     "text": [
      "mse of the PCA reconstructed data: 17.09\n"
     ]
    }
   ],
   "source": [
    "decoded_images_1 = full_model_1.predict(X_test_LR)\n",
    "print('mse of the PCA reconstructed data: {:.2f}'.format(mse_reconstruction(decoded_images, X_test_LR)))"
   ]
  },
  {
   "cell_type": "code",
   "execution_count": 157,
   "metadata": {},
   "outputs": [
    {
     "data": {
      "image/png": "[encoded data removed]",
      "text/plain": [
       "<Figure size 432x288 with 1 Axes>"
      ]
     },
     "metadata": {
      "needs_background": "light"
     },
     "output_type": "display_data"
    }
   ],
   "source": [
    "# Show a sample scan from the reconstructed data\n",
    "\n",
    "decoded_images_reshaped_1 = np.reshape(decoded_images_1,tuple([-1]+list(INPUT_SHAPE)))\n",
    "\n",
    "random_num = np.random.randint(0,len(decoded_images_reshaped_1))\n",
    "\n",
    "# plt.figure(figsize=(12,6))\n",
    "plt.imshow(decoded_images_reshaped_1[random_num,:,:,:])\n",
    "plt.grid(False)\n",
    "plt.axis('off')\n",
    "plt.show()"
   ]
  },
  {
   "cell_type": "code",
   "execution_count": 211,
   "metadata": {},
   "outputs": [
    {
     "name": "stdout",
     "output_type": "stream",
     "text": [
      "Model: \"sequential_53\"\n",
      "_________________________________________________________________\n",
      "Layer (type)                 Output Shape              Param #   \n",
      "=================================================================\n",
      "conv2d_212 (Conv2D)          (None, 25, 25, 32)        2432      \n",
      "_________________________________________________________________\n",
      "activation_318 (Activation)  (None, 25, 25, 32)        0         \n",
      "_________________________________________________________________\n",
      "max_pooling2d_106 (MaxPoolin (None, 13, 13, 32)        0         \n",
      "_________________________________________________________________\n",
      "conv2d_213 (Conv2D)          (None, 7, 7, 64)          51264     \n",
      "_________________________________________________________________\n",
      "activation_319 (Activation)  (None, 7, 7, 64)          0         \n",
      "_________________________________________________________________\n",
      "dropout_159 (Dropout)        (None, 7, 7, 64)          0         \n",
      "_________________________________________________________________\n",
      "conv2d_214 (Conv2D)          (None, 4, 4, 128)         204928    \n",
      "_________________________________________________________________\n",
      "activation_320 (Activation)  (None, 4, 4, 128)         0         \n",
      "_________________________________________________________________\n",
      "max_pooling2d_107 (MaxPoolin (None, 2, 2, 128)         0         \n",
      "_________________________________________________________________\n",
      "conv2d_215 (Conv2D)          (None, 1, 1, 256)         819456    \n",
      "_________________________________________________________________\n",
      "activation_321 (Activation)  (None, 1, 1, 256)         0         \n",
      "_________________________________________________________________\n",
      "dropout_160 (Dropout)        (None, 1, 1, 256)         0         \n",
      "_________________________________________________________________\n",
      "flatten_53 (Flatten)         (None, 256)               0         \n",
      "_________________________________________________________________\n",
      "dense_120 (Dense)            (None, 512)               131584    \n",
      "_________________________________________________________________\n",
      "activation_322 (Activation)  (None, 512)               0         \n",
      "_________________________________________________________________\n",
      "dropout_161 (Dropout)        (None, 512)               0         \n",
      "_________________________________________________________________\n",
      "dense_121 (Dense)            (None, 1)                 513       \n",
      "_________________________________________________________________\n",
      "activation_323 (Activation)  (None, 1)                 0         \n",
      "=================================================================\n",
      "Total params: 1,210,177\n",
      "Trainable params: 1,210,177\n",
      "Non-trainable params: 0\n",
      "_________________________________________________________________\n",
      "None\n",
      "Epoch 1/10\n",
      "30/30 [==============================] - 4s 119ms/step - loss: 0.6853 - binary_accuracy: 0.6600 - val_loss: 0.6302 - val_binary_accuracy: 0.7787\n",
      "Epoch 2/10\n",
      "30/30 [==============================] - 3s 112ms/step - loss: 0.5974 - binary_accuracy: 0.7222 - val_loss: 0.5073 - val_binary_accuracy: 0.7404\n",
      "Epoch 3/10\n",
      "30/30 [==============================] - 4s 121ms/step - loss: 0.5014 - binary_accuracy: 0.7804 - val_loss: 0.4127 - val_binary_accuracy: 0.8255\n",
      "Epoch 4/10\n",
      "30/30 [==============================] - 4s 126ms/step - loss: 0.4748 - binary_accuracy: 0.7962 - val_loss: 0.4131 - val_binary_accuracy: 0.8426\n",
      "Epoch 5/10\n",
      "30/30 [==============================] - 3s 112ms/step - loss: 0.3893 - binary_accuracy: 0.8450 - val_loss: 0.3941 - val_binary_accuracy: 0.8170\n",
      "Epoch 6/10\n",
      "30/30 [==============================] - 3s 115ms/step - loss: 0.3867 - binary_accuracy: 0.8039 - val_loss: 0.3350 - val_binary_accuracy: 0.8553\n",
      "Epoch 7/10\n",
      "30/30 [==============================] - 4s 120ms/step - loss: 0.3758 - binary_accuracy: 0.8426 - val_loss: 0.4135 - val_binary_accuracy: 0.8255\n",
      "Epoch 8/10\n",
      "30/30 [==============================] - 4s 124ms/step - loss: 0.3909 - binary_accuracy: 0.8371 - val_loss: 0.3395 - val_binary_accuracy: 0.8468\n",
      "Epoch 9/10\n",
      "30/30 [==============================] - 3s 105ms/step - loss: 0.3189 - binary_accuracy: 0.8572 - val_loss: 0.2966 - val_binary_accuracy: 0.8766\n",
      "Epoch 10/10\n",
      "30/30 [==============================] - 3s 112ms/step - loss: 0.3730 - binary_accuracy: 0.8370 - val_loss: 0.2938 - val_binary_accuracy: 0.8596\n",
      "\n",
      "Accuracy score: 77.82%\n",
      "\n",
      "Run in 36.81 seconds.\n"
     ]
    }
   ],
   "source": [
    "# Train a CNN using the reconstructed data\n",
    "\n",
    "# start time\n",
    "start_time = time.time()\n",
    "\n",
    "# initiate RMSprop optimizer\n",
    "opt = RMSprop(lr=0.001)\n",
    "\n",
    "# Modeling\n",
    "model_ae1 = modeling(input_shape_img=INPUT_SHAPE)\n",
    "\n",
    "model_ae1.compile(loss='binary_crossentropy', \n",
    "              optimizer=opt,\n",
    "              metrics=['BinaryAccuracy']) \n",
    "\n",
    "print(model_ae1.summary())\n",
    "\n",
    "# Training\n",
    "history_ae1 = model_ae1.fit(decoded_images_reshaped_1, y_test,\n",
    "              batch_size=BATCH_SIZE,\n",
    "              epochs=10,\n",
    "              validation_split=0.2, # Train-test split\n",
    "              shuffle=True)\n",
    "\n",
    "print('\\nAccuracy score: {:.2f}%'.format(accuracy_score(y_test, model_pca.predict_classes(decoded_images_reshaped_1))*100))\n",
    "\n",
    "print('\\nRun in {:.2f} seconds.'.format(time.time() - start_time))"
   ]
  },
  {
   "cell_type": "code",
   "execution_count": 212,
   "metadata": {},
   "outputs": [
    {
     "data": {
      "image/png": "[encoded data removed]",
      "text/plain": [
       "<Figure size 720x216 with 2 Axes>"
      ]
     },
     "metadata": {
      "needs_background": "light"
     },
     "output_type": "display_data"
    }
   ],
   "source": [
    "# Plotting the validation curves\n",
    "plot_validation_curves(history_ae1.history, 'binary_accuracy')"
   ]
  },
  {
   "cell_type": "markdown",
   "metadata": {},
   "source": [
    "**Encoder and decoder with additional hidden layer**"
   ]
  },
  {
   "cell_type": "code",
   "execution_count": 138,
   "metadata": {},
   "outputs": [
    {
     "name": "stdout",
     "output_type": "stream",
     "text": [
      "Model: \"full_ae_2\"\n",
      "_________________________________________________________________\n",
      "Layer (type)                 Output Shape              Param #   \n",
      "=================================================================\n",
      "input_5 (InputLayer)         [(None, 7500)]            0         \n",
      "_________________________________________________________________\n",
      "encoder (Functional)         (None, 128)               1953152   \n",
      "_________________________________________________________________\n",
      "decoder (Functional)         (None, 7500)              1960524   \n",
      "=================================================================\n",
      "Total params: 3,913,676\n",
      "Trainable params: 3,913,676\n",
      "Non-trainable params: 0\n",
      "_________________________________________________________________\n"
     ]
    }
   ],
   "source": [
    "ENCODING_DIM = 128\n",
    "HIDDEN_DIM = 256\n",
    "\n",
    "# Encoder model\n",
    "inputs = Input(shape=(7500,)) \n",
    "encoder_hidden = Dense(HIDDEN_DIM, activation=\"sigmoid\")(inputs)\n",
    "encoded = Dense(ENCODING_DIM, activation=\"relu\")(encoder_hidden)\n",
    "encoder_model = Model(inputs, encoded, name='encoder')\n",
    "\n",
    "# Decoder model\n",
    "encoded_inputs = Input(shape=(ENCODING_DIM,), name='encoding')\n",
    "decoder_hidden = Dense(HIDDEN_DIM, activation=\"relu\")(encoded_inputs)\n",
    "reconstruction = Dense(7500, activation=\"sigmoid\")(decoder_hidden)\n",
    "decoder_model = Model(encoded_inputs, reconstruction, name='decoder')\n",
    "\n",
    "# Defining the full model as the combination of the two\n",
    "outputs = decoder_model(encoder_model(inputs))\n",
    "full_model_2 = Model(inputs, outputs, name='full_ae_2')\n",
    "\n",
    "full_model_2.compile(optimizer='rmsprop',\n",
    "                 loss='binary_crossentropy',\n",
    "                 metrics=['accuracy'])\n",
    "\n",
    "full_model_2.summary()"
   ]
  },
  {
   "cell_type": "code",
   "execution_count": 140,
   "metadata": {},
   "outputs": [
    {
     "name": "stdout",
     "output_type": "stream",
     "text": [
      "Epoch 1/5\n",
      "147/147 [==============================] - 12s 74ms/step - loss: 0.6261 - accuracy: 7.0627e-04\n",
      "Epoch 2/5\n",
      "147/147 [==============================] - 9s 64ms/step - loss: 0.6116 - accuracy: 7.1765e-04\n",
      "Epoch 3/5\n",
      "147/147 [==============================] - 10s 66ms/step - loss: 0.6064 - accuracy: 0.0000e+00\n",
      "Epoch 4/5\n",
      "147/147 [==============================] - 9s 64ms/step - loss: 0.6041 - accuracy: 6.2201e-04\n",
      "Epoch 5/5\n",
      "147/147 [==============================] - 9s 63ms/step - loss: 0.6011 - accuracy: 1.1659e-04\n"
     ]
    }
   ],
   "source": [
    "history = full_model_2.fit(X_train_LR, X_train_LR, shuffle=True, epochs=5, batch_size=32)"
   ]
  },
  {
   "cell_type": "code",
   "execution_count": 142,
   "metadata": {},
   "outputs": [
    {
     "name": "stdout",
     "output_type": "stream",
     "text": [
      "mse of the PCA reconstructed data: 17.22\n"
     ]
    }
   ],
   "source": [
    "decoded_images_2 = full_model_2.predict(X_test_LR)\n",
    "print('mse of the PCA reconstructed data: {:.2f}'.format(mse_reconstruction(decoded_images_2, X_test_LR)))"
   ]
  },
  {
   "cell_type": "code",
   "execution_count": 143,
   "metadata": {},
   "outputs": [
    {
     "data": {
      "image/png": "[encoded data removed]",
      "text/plain": [
       "<Figure size 432x288 with 1 Axes>"
      ]
     },
     "metadata": {
      "needs_background": "light"
     },
     "output_type": "display_data"
    }
   ],
   "source": [
    "# Show a sample scan from the reconstructed data\n",
    "\n",
    "decoded_images_reshaped_2 = np.reshape(decoded_images_2,tuple([-1]+list(INPUT_SHAPE)))\n",
    "\n",
    "random_num = np.random.randint(0,len(decoded_images_reshaped_2))\n",
    "\n",
    "# plt.figure(figsize=(12,6))\n",
    "plt.imshow(decoded_images_reshaped_2[random_num,:,:,:])\n",
    "plt.grid(False)\n",
    "plt.axis('off')\n",
    "plt.show()"
   ]
  },
  {
   "cell_type": "code",
   "execution_count": 213,
   "metadata": {},
   "outputs": [
    {
     "name": "stdout",
     "output_type": "stream",
     "text": [
      "Model: \"sequential_54\"\n",
      "_________________________________________________________________\n",
      "Layer (type)                 Output Shape              Param #   \n",
      "=================================================================\n",
      "conv2d_216 (Conv2D)          (None, 25, 25, 32)        2432      \n",
      "_________________________________________________________________\n",
      "activation_324 (Activation)  (None, 25, 25, 32)        0         \n",
      "_________________________________________________________________\n",
      "max_pooling2d_108 (MaxPoolin (None, 13, 13, 32)        0         \n",
      "_________________________________________________________________\n",
      "conv2d_217 (Conv2D)          (None, 7, 7, 64)          51264     \n",
      "_________________________________________________________________\n",
      "activation_325 (Activation)  (None, 7, 7, 64)          0         \n",
      "_________________________________________________________________\n",
      "dropout_162 (Dropout)        (None, 7, 7, 64)          0         \n",
      "_________________________________________________________________\n",
      "conv2d_218 (Conv2D)          (None, 4, 4, 128)         204928    \n",
      "_________________________________________________________________\n",
      "activation_326 (Activation)  (None, 4, 4, 128)         0         \n",
      "_________________________________________________________________\n",
      "max_pooling2d_109 (MaxPoolin (None, 2, 2, 128)         0         \n",
      "_________________________________________________________________\n",
      "conv2d_219 (Conv2D)          (None, 1, 1, 256)         819456    \n",
      "_________________________________________________________________\n",
      "activation_327 (Activation)  (None, 1, 1, 256)         0         \n",
      "_________________________________________________________________\n",
      "dropout_163 (Dropout)        (None, 1, 1, 256)         0         \n",
      "_________________________________________________________________\n",
      "flatten_54 (Flatten)         (None, 256)               0         \n",
      "_________________________________________________________________\n",
      "dense_122 (Dense)            (None, 512)               131584    \n",
      "_________________________________________________________________\n",
      "activation_328 (Activation)  (None, 512)               0         \n",
      "_________________________________________________________________\n",
      "dropout_164 (Dropout)        (None, 512)               0         \n",
      "_________________________________________________________________\n",
      "dense_123 (Dense)            (None, 1)                 513       \n",
      "_________________________________________________________________\n",
      "activation_329 (Activation)  (None, 1)                 0         \n",
      "=================================================================\n",
      "Total params: 1,210,177\n",
      "Trainable params: 1,210,177\n",
      "Non-trainable params: 0\n",
      "_________________________________________________________________\n",
      "None\n",
      "Epoch 1/10\n",
      "33/33 [==============================] - 6s 162ms/step - loss: 0.8159 - binary_accuracy: 0.7072 - val_loss: 0.5511 - val_binary_accuracy: 0.7797\n",
      "Epoch 2/10\n",
      "33/33 [==============================] - 4s 116ms/step - loss: 0.5644 - binary_accuracy: 0.7306 - val_loss: 0.4630 - val_binary_accuracy: 0.7881\n",
      "Epoch 3/10\n",
      "33/33 [==============================] - 4s 116ms/step - loss: 0.4698 - binary_accuracy: 0.7500 - val_loss: 0.4542 - val_binary_accuracy: 0.7797\n",
      "Epoch 4/10\n",
      "33/33 [==============================] - ETA: 0s - loss: 0.4560 - binary_accuracy: 0.788 - 4s 114ms/step - loss: 0.4554 - binary_accuracy: 0.7886 - val_loss: 0.3971 - val_binary_accuracy: 0.8220\n",
      "Epoch 5/10\n",
      "33/33 [==============================] - 4s 116ms/step - loss: 0.4213 - binary_accuracy: 0.8114 - val_loss: 0.3774 - val_binary_accuracy: 0.8220\n",
      "Epoch 6/10\n",
      "33/33 [==============================] - 4s 128ms/step - loss: 0.3846 - binary_accuracy: 0.8445 - val_loss: 0.3975 - val_binary_accuracy: 0.7966\n",
      "Epoch 7/10\n",
      "33/33 [==============================] - 4s 112ms/step - loss: 0.4073 - binary_accuracy: 0.8127 - val_loss: 0.3833 - val_binary_accuracy: 0.8220\n",
      "Epoch 8/10\n",
      "33/33 [==============================] - 4s 112ms/step - loss: 0.3690 - binary_accuracy: 0.8305 - val_loss: 0.3855 - val_binary_accuracy: 0.8220\n",
      "Epoch 9/10\n",
      "33/33 [==============================] - 4s 113ms/step - loss: 0.4071 - binary_accuracy: 0.8177 - val_loss: 0.3980 - val_binary_accuracy: 0.7797\n",
      "Epoch 10/10\n",
      "33/33 [==============================] - 4s 113ms/step - loss: 0.3736 - binary_accuracy: 0.8397 - val_loss: 0.4006 - val_binary_accuracy: 0.8305\n",
      "\n",
      "Accuracy score: 83.79%\n",
      "\n",
      "Run in 41.30 seconds.\n"
     ]
    }
   ],
   "source": [
    "# start time\n",
    "start_time = time.time()\n",
    "\n",
    "# initiate RMSprop optimizer\n",
    "opt = RMSprop(lr=0.001)\n",
    "\n",
    "model_ae2 = modeling(input_shape_img=INPUT_SHAPE)\n",
    "\n",
    "# Let's train the model using RMSprop\n",
    "model_ae2.compile(loss='binary_crossentropy', \n",
    "              optimizer=opt,\n",
    "              metrics=['BinaryAccuracy'])\n",
    "\n",
    "print(model_ae2.summary())\n",
    "\n",
    "history_ae2 = model_ae2.fit(decoded_images_reshaped_2, y_test,\n",
    "              batch_size=BATCH_SIZE,\n",
    "              epochs=10,\n",
    "              validation_split=0.1,\n",
    "              shuffle=True)\n",
    "\n",
    "print('\\nAccuracy score: {:.2f}%'.format(accuracy_score(y_test, model_ae2.predict_classes(decoded_images_reshaped_2))*100))\n",
    "\n",
    "print('\\nRun in {:.2f} seconds.'.format(time.time() - start_time))"
   ]
  },
  {
   "cell_type": "code",
   "execution_count": 214,
   "metadata": {},
   "outputs": [
    {
     "data": {
      "image/png": "[encoded data removed]",
      "text/plain": [
       "<Figure size 720x216 with 2 Axes>"
      ]
     },
     "metadata": {
      "needs_background": "light"
     },
     "output_type": "display_data"
    }
   ],
   "source": [
    "# Plotting the validation curves\n",
    "plot_validation_curves(history_ae2.history, 'binary_accuracy')"
   ]
  },
  {
   "cell_type": "markdown",
   "metadata": {},
   "source": [
    "**THANK YOU!**"
   ]
  },
  {
   "cell_type": "code",
   "execution_count": null,
   "metadata": {},
   "outputs": [],
   "source": []
  }
 ],
 "metadata": {
  "kernelspec": {
   "display_name": "Python 3",
   "language": "python",
   "name": "python3"
  },
  "language_info": {
   "codemirror_mode": {
    "name": "ipython",
    "version": 3
   },
   "file_extension": ".py",
   "mimetype": "text/x-python",
   "name": "python",
   "nbconvert_exporter": "python",
   "pygments_lexer": "ipython3",
   "version": "3.8.5"
  }
 },
 "nbformat": 4,
 "nbformat_minor": 4
}
